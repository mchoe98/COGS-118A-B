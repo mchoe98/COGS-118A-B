{
 "cells": [
  {
   "cell_type": "code",
   "execution_count": 1,
   "metadata": {
    "collapsed": true
   },
   "outputs": [],
   "source": [
    "import pandas as pd\n",
    "from sklearn.utils import shuffle\n",
    "import numpy as np\n",
    "import matplotlib.pyplot as plt\n",
    "from sklearn import svm\n",
    "from sklearn.neighbors import KNeighborsClassifier\n",
    "from sklearn import tree\n",
    "from sklearn.ensemble import RandomForestClassifier\n",
    "from sklearn.neural_network import MLPClassifier\n",
    "from sklearn.model_selection import GridSearchCV"
   ]
  },
  {
   "cell_type": "code",
   "execution_count": 3,
   "metadata": {
    "collapsed": true
   },
   "outputs": [],
   "source": [
    "import warnings\n",
    "warnings.filterwarnings(\"ignore\")"
   ]
  },
  {
   "cell_type": "markdown",
   "metadata": {},
   "source": [
    "# LETTER"
   ]
  },
  {
   "cell_type": "code",
   "execution_count": 2,
   "metadata": {},
   "outputs": [
    {
     "name": "stdout",
     "output_type": "stream",
     "text": [
      "(20000, 17)\n"
     ]
    }
   ],
   "source": [
    "data = pd.read_csv('letter-recognition.data',header=-1)\n",
    "data = shuffle(data)\n",
    "print(data.shape)"
   ]
  },
  {
   "cell_type": "code",
   "execution_count": 3,
   "metadata": {},
   "outputs": [
    {
     "name": "stdout",
     "output_type": "stream",
     "text": [
      "(6250, 16)\n"
     ]
    }
   ],
   "source": [
    "X = data.iloc[:6250,1:].values\n",
    "Y = pd.get_dummies(data.iloc[:6250,0]).values\n",
    "Y = np.argmax(Y, axis=1)\n",
    "for i in range(Y.size):\n",
    "    if Y[i] <= 12:\n",
    "        Y[i]=1\n",
    "    else:\n",
    "        Y[i]=-1\n",
    "print(X.shape)"
   ]
  },
  {
   "cell_type": "markdown",
   "metadata": {},
   "source": [
    "## 80/20 Split"
   ]
  },
  {
   "cell_type": "code",
   "execution_count": 5,
   "metadata": {
    "collapsed": true
   },
   "outputs": [],
   "source": [
    "X_train = X[:int(len(X)*.8),:]\n",
    "Y_train = Y[:int(len(Y)*.8)]\n",
    "X_test = X[int(len(X)*.8):,:]\n",
    "Y_test = Y[int(len(Y)*.8):]"
   ]
  },
  {
   "cell_type": "markdown",
   "metadata": {},
   "source": [
    "### SVM"
   ]
  },
  {
   "cell_type": "code",
   "execution_count": 7,
   "metadata": {},
   "outputs": [
    {
     "name": "stdout",
     "output_type": "stream",
     "text": [
      "[0.68964998 0.69799977 0.70669962 0.71279979 0.71654997] [0.6828 0.696  0.7038 0.7088 0.7114]\n"
     ]
    }
   ],
   "source": [
    "model = svm.LinearSVC()\n",
    "C_list = [10**-5,10**-4,10**-3,10**-2,10**-1]\n",
    "clf = GridSearchCV(model,{'C':C_list},cv=5)\n",
    "clf.fit(X_train, Y_train)\n",
    "train_acc = clf.cv_results_['mean_train_score']\n",
    "val_acc = clf.cv_results_['mean_test_score']\n",
    "print(train_acc, val_acc)"
   ]
  },
  {
   "cell_type": "code",
   "execution_count": 54,
   "metadata": {},
   "outputs": [
    {
     "name": "stdout",
     "output_type": "stream",
     "text": [
      "0.7128\n"
     ]
    }
   ],
   "source": [
    "clf = svm.LinearSVC(C=10**-1)\n",
    "clf.fit(X_train,Y_train)\n",
    "pred = clf.predict(X_test)\n",
    "errors = np.count_nonzero(pred-Y_test)\n",
    "svm_test_acc_80 = (Y_test.size - errors)/Y_test.size\n",
    "print(svm_test_acc_80)"
   ]
  },
  {
   "cell_type": "markdown",
   "metadata": {},
   "source": [
    "### KNN"
   ]
  },
  {
   "cell_type": "code",
   "execution_count": 9,
   "metadata": {},
   "outputs": [
    {
     "name": "stdout",
     "output_type": "stream",
     "text": [
      "[1.         0.97409966 0.97874995 0.96959967 0.96589975 0.96199956\n",
      " 0.95829994 0.95284969 0.9481498  0.94514996 0.9405     0.93574982\n",
      " 0.93219991 0.92789958 0.92554952 0.92259926 0.92004953 0.91724918\n",
      " 0.9141993  0.91074957 0.90699966 0.90379983 0.90214977 0.89729953\n",
      " 0.89749976 0.89324987] [0.9436 0.9248 0.9424 0.9354 0.9374 0.9334 0.9324 0.9294 0.9232 0.9206\n",
      " 0.9164 0.9136 0.9102 0.9056 0.9066 0.9044 0.9018 0.896  0.8964 0.8924\n",
      " 0.8894 0.8862 0.8832 0.88   0.881  0.876 ]\n"
     ]
    }
   ],
   "source": [
    "model = KNeighborsClassifier()\n",
    "k = np.arange(1,27)\n",
    "clf = GridSearchCV(model,{'n_neighbors':k},cv=5)\n",
    "clf.fit(X_train, Y_train)\n",
    "train_acc = clf.cv_results_['mean_train_score']\n",
    "val_acc = clf.cv_results_['mean_test_score']\n",
    "print(train_acc, val_acc)"
   ]
  },
  {
   "cell_type": "code",
   "execution_count": 16,
   "metadata": {},
   "outputs": [
    {
     "name": "stdout",
     "output_type": "stream",
     "text": [
      "0.9544\n"
     ]
    }
   ],
   "source": [
    "clf = KNeighborsClassifier(n_neighbors=1)\n",
    "clf.fit(X_train,Y_train)\n",
    "pred = clf.predict(X_test)\n",
    "errors = np.count_nonzero(pred-Y_test)\n",
    "knn_test_acc_80 = (Y_test.size - errors)/Y_test.size\n",
    "print(knn_test_acc_80)"
   ]
  },
  {
   "cell_type": "markdown",
   "metadata": {},
   "source": [
    "### Decision Trees"
   ]
  },
  {
   "cell_type": "code",
   "execution_count": 11,
   "metadata": {},
   "outputs": [
    {
     "name": "stdout",
     "output_type": "stream",
     "text": [
      "[0.77574986 0.91909911 0.98409927 0.99940001 1.        ] [0.7526 0.848  0.8734 0.8734 0.8706]\n"
     ]
    }
   ],
   "source": [
    "model = tree.DecisionTreeClassifier()\n",
    "D = [5,10,15,20,25]\n",
    "clf = GridSearchCV(model,{'max_depth':D},cv=5)\n",
    "clf.fit(X_train, Y_train)\n",
    "train_acc = clf.cv_results_['mean_train_score']\n",
    "val_acc = clf.cv_results_['mean_test_score']\n",
    "print(train_acc, val_acc)"
   ]
  },
  {
   "cell_type": "code",
   "execution_count": 18,
   "metadata": {},
   "outputs": [
    {
     "name": "stdout",
     "output_type": "stream",
     "text": [
      "0.8312\n"
     ]
    }
   ],
   "source": [
    "clf = tree.DecisionTreeClassifier(max_depth=10)\n",
    "clf.fit(X_train,Y_train)\n",
    "pred = clf.predict(X_test)\n",
    "errors = np.count_nonzero(pred-Y_test)\n",
    "dt_test_acc_80 = (Y_test.size - errors)/Y_test.size\n",
    "print(dt_test_acc_80)"
   ]
  },
  {
   "cell_type": "markdown",
   "metadata": {},
   "source": [
    "### Random Forest"
   ]
  },
  {
   "cell_type": "code",
   "execution_count": 13,
   "metadata": {},
   "outputs": [
    {
     "name": "stdout",
     "output_type": "stream",
     "text": [
      "[1.         0.9999     0.99889995 0.9973     0.99289999 0.98579996\n",
      " 0.97895009] [0.9388 0.9374 0.9356 0.9316 0.9268 0.921  0.918 ]\n"
     ]
    }
   ],
   "source": [
    "model = RandomForestClassifier(n_estimators=1024)\n",
    "clf = GridSearchCV(model,{'min_samples_split':[2,4,6,8,12,16,20]},cv=5)\n",
    "clf.fit(X_train, Y_train)\n",
    "train_acc = clf.cv_results_['mean_train_score']\n",
    "val_acc = clf.cv_results_['mean_test_score']\n",
    "print(train_acc, val_acc)"
   ]
  },
  {
   "cell_type": "code",
   "execution_count": 21,
   "metadata": {},
   "outputs": [
    {
     "name": "stdout",
     "output_type": "stream",
     "text": [
      "0.9488\n"
     ]
    }
   ],
   "source": [
    "clf =  RandomForestClassifier(n_estimators=1024, min_samples_split=2)\n",
    "clf.fit(X_train,Y_train)\n",
    "pred = clf.predict(X_test)\n",
    "errors = np.count_nonzero(pred-Y_test)\n",
    "rf_test_acc_80 = (Y_test.size - errors)/Y_test.size\n",
    "print(rf_test_acc_80)"
   ]
  },
  {
   "cell_type": "markdown",
   "metadata": {},
   "source": [
    "### Neural Network"
   ]
  },
  {
   "cell_type": "code",
   "execution_count": 6,
   "metadata": {},
   "outputs": [
    {
     "name": "stderr",
     "output_type": "stream",
     "text": [
      "/anaconda3/lib/python3.6/site-packages/sklearn/neural_network/multilayer_perceptron.py:564: ConvergenceWarning: Stochastic Optimizer: Maximum iterations (200) reached and the optimization hasn't converged yet.\n",
      "  % self.max_iter, ConvergenceWarning)\n",
      "/anaconda3/lib/python3.6/site-packages/sklearn/neural_network/multilayer_perceptron.py:564: ConvergenceWarning: Stochastic Optimizer: Maximum iterations (200) reached and the optimization hasn't converged yet.\n",
      "  % self.max_iter, ConvergenceWarning)\n",
      "/anaconda3/lib/python3.6/site-packages/sklearn/neural_network/multilayer_perceptron.py:564: ConvergenceWarning: Stochastic Optimizer: Maximum iterations (200) reached and the optimization hasn't converged yet.\n",
      "  % self.max_iter, ConvergenceWarning)\n",
      "/anaconda3/lib/python3.6/site-packages/sklearn/neural_network/multilayer_perceptron.py:564: ConvergenceWarning: Stochastic Optimizer: Maximum iterations (200) reached and the optimization hasn't converged yet.\n",
      "  % self.max_iter, ConvergenceWarning)\n",
      "/anaconda3/lib/python3.6/site-packages/sklearn/neural_network/multilayer_perceptron.py:564: ConvergenceWarning: Stochastic Optimizer: Maximum iterations (200) reached and the optimization hasn't converged yet.\n",
      "  % self.max_iter, ConvergenceWarning)\n",
      "/anaconda3/lib/python3.6/site-packages/sklearn/neural_network/multilayer_perceptron.py:564: ConvergenceWarning: Stochastic Optimizer: Maximum iterations (200) reached and the optimization hasn't converged yet.\n",
      "  % self.max_iter, ConvergenceWarning)\n",
      "/anaconda3/lib/python3.6/site-packages/sklearn/neural_network/multilayer_perceptron.py:564: ConvergenceWarning: Stochastic Optimizer: Maximum iterations (200) reached and the optimization hasn't converged yet.\n",
      "  % self.max_iter, ConvergenceWarning)\n",
      "/anaconda3/lib/python3.6/site-packages/sklearn/neural_network/multilayer_perceptron.py:564: ConvergenceWarning: Stochastic Optimizer: Maximum iterations (200) reached and the optimization hasn't converged yet.\n",
      "  % self.max_iter, ConvergenceWarning)\n",
      "/anaconda3/lib/python3.6/site-packages/sklearn/neural_network/multilayer_perceptron.py:564: ConvergenceWarning: Stochastic Optimizer: Maximum iterations (200) reached and the optimization hasn't converged yet.\n",
      "  % self.max_iter, ConvergenceWarning)\n",
      "/anaconda3/lib/python3.6/site-packages/sklearn/neural_network/multilayer_perceptron.py:564: ConvergenceWarning: Stochastic Optimizer: Maximum iterations (200) reached and the optimization hasn't converged yet.\n",
      "  % self.max_iter, ConvergenceWarning)\n",
      "/anaconda3/lib/python3.6/site-packages/sklearn/neural_network/multilayer_perceptron.py:564: ConvergenceWarning: Stochastic Optimizer: Maximum iterations (200) reached and the optimization hasn't converged yet.\n",
      "  % self.max_iter, ConvergenceWarning)\n",
      "/anaconda3/lib/python3.6/site-packages/sklearn/neural_network/multilayer_perceptron.py:564: ConvergenceWarning: Stochastic Optimizer: Maximum iterations (200) reached and the optimization hasn't converged yet.\n",
      "  % self.max_iter, ConvergenceWarning)\n",
      "/anaconda3/lib/python3.6/site-packages/sklearn/neural_network/multilayer_perceptron.py:564: ConvergenceWarning: Stochastic Optimizer: Maximum iterations (200) reached and the optimization hasn't converged yet.\n",
      "  % self.max_iter, ConvergenceWarning)\n",
      "/anaconda3/lib/python3.6/site-packages/sklearn/neural_network/multilayer_perceptron.py:564: ConvergenceWarning: Stochastic Optimizer: Maximum iterations (200) reached and the optimization hasn't converged yet.\n",
      "  % self.max_iter, ConvergenceWarning)\n",
      "/anaconda3/lib/python3.6/site-packages/sklearn/neural_network/multilayer_perceptron.py:564: ConvergenceWarning: Stochastic Optimizer: Maximum iterations (200) reached and the optimization hasn't converged yet.\n",
      "  % self.max_iter, ConvergenceWarning)\n",
      "/anaconda3/lib/python3.6/site-packages/sklearn/neural_network/multilayer_perceptron.py:564: ConvergenceWarning: Stochastic Optimizer: Maximum iterations (200) reached and the optimization hasn't converged yet.\n",
      "  % self.max_iter, ConvergenceWarning)\n",
      "/anaconda3/lib/python3.6/site-packages/sklearn/neural_network/multilayer_perceptron.py:564: ConvergenceWarning: Stochastic Optimizer: Maximum iterations (200) reached and the optimization hasn't converged yet.\n",
      "  % self.max_iter, ConvergenceWarning)\n",
      "/anaconda3/lib/python3.6/site-packages/sklearn/neural_network/multilayer_perceptron.py:564: ConvergenceWarning: Stochastic Optimizer: Maximum iterations (200) reached and the optimization hasn't converged yet.\n",
      "  % self.max_iter, ConvergenceWarning)\n",
      "/anaconda3/lib/python3.6/site-packages/sklearn/neural_network/multilayer_perceptron.py:564: ConvergenceWarning: Stochastic Optimizer: Maximum iterations (200) reached and the optimization hasn't converged yet.\n",
      "  % self.max_iter, ConvergenceWarning)\n",
      "/anaconda3/lib/python3.6/site-packages/sklearn/neural_network/multilayer_perceptron.py:564: ConvergenceWarning: Stochastic Optimizer: Maximum iterations (200) reached and the optimization hasn't converged yet.\n",
      "  % self.max_iter, ConvergenceWarning)\n",
      "/anaconda3/lib/python3.6/site-packages/sklearn/neural_network/multilayer_perceptron.py:564: ConvergenceWarning: Stochastic Optimizer: Maximum iterations (200) reached and the optimization hasn't converged yet.\n",
      "  % self.max_iter, ConvergenceWarning)\n",
      "/anaconda3/lib/python3.6/site-packages/sklearn/neural_network/multilayer_perceptron.py:564: ConvergenceWarning: Stochastic Optimizer: Maximum iterations (200) reached and the optimization hasn't converged yet.\n",
      "  % self.max_iter, ConvergenceWarning)\n",
      "/anaconda3/lib/python3.6/site-packages/sklearn/neural_network/multilayer_perceptron.py:564: ConvergenceWarning: Stochastic Optimizer: Maximum iterations (200) reached and the optimization hasn't converged yet.\n",
      "  % self.max_iter, ConvergenceWarning)\n",
      "/anaconda3/lib/python3.6/site-packages/sklearn/neural_network/multilayer_perceptron.py:564: ConvergenceWarning: Stochastic Optimizer: Maximum iterations (200) reached and the optimization hasn't converged yet.\n",
      "  % self.max_iter, ConvergenceWarning)\n",
      "/anaconda3/lib/python3.6/site-packages/sklearn/neural_network/multilayer_perceptron.py:564: ConvergenceWarning: Stochastic Optimizer: Maximum iterations (200) reached and the optimization hasn't converged yet.\n",
      "  % self.max_iter, ConvergenceWarning)\n",
      "/anaconda3/lib/python3.6/site-packages/sklearn/neural_network/multilayer_perceptron.py:564: ConvergenceWarning: Stochastic Optimizer: Maximum iterations (200) reached and the optimization hasn't converged yet.\n",
      "  % self.max_iter, ConvergenceWarning)\n",
      "/anaconda3/lib/python3.6/site-packages/sklearn/neural_network/multilayer_perceptron.py:564: ConvergenceWarning: Stochastic Optimizer: Maximum iterations (200) reached and the optimization hasn't converged yet.\n",
      "  % self.max_iter, ConvergenceWarning)\n"
     ]
    },
    {
     "name": "stdout",
     "output_type": "stream",
     "text": [
      "[0.53684959 0.55934709 0.49705129 0.4923     0.69540157 0.69805399\n",
      " 0.70175203 0.76655163 0.72510452 0.74835361 0.75715269 0.85060745] [0.5372 0.5588 0.4966 0.4924 0.692  0.696  0.6988 0.7628 0.72   0.751\n",
      " 0.7476 0.8386]\n"
     ]
    },
    {
     "name": "stderr",
     "output_type": "stream",
     "text": [
      "/anaconda3/lib/python3.6/site-packages/sklearn/neural_network/multilayer_perceptron.py:564: ConvergenceWarning: Stochastic Optimizer: Maximum iterations (200) reached and the optimization hasn't converged yet.\n",
      "  % self.max_iter, ConvergenceWarning)\n",
      "/anaconda3/lib/python3.6/site-packages/sklearn/utils/deprecation.py:122: FutureWarning: You are accessing a training score ('mean_train_score'), which will not be available by default any more in 0.21. If you need training scores, please set return_train_score=True\n",
      "  warnings.warn(*warn_args, **warn_kwargs)\n"
     ]
    }
   ],
   "source": [
    "model = MLPClassifier(solver='sgd')\n",
    "param = {'hidden_layer_sizes':[(1,),(10,),(100,)],'momentum':[0,0.2,0.5,0.9]}\n",
    "clf = GridSearchCV(model,param,cv=5)\n",
    "clf.fit(X_train, Y_train)\n",
    "train_acc = clf.cv_results_['mean_train_score']\n",
    "val_acc = clf.cv_results_['mean_test_score']\n",
    "print(train_acc, val_acc)"
   ]
  },
  {
   "cell_type": "code",
   "execution_count": 25,
   "metadata": {},
   "outputs": [
    {
     "name": "stdout",
     "output_type": "stream",
     "text": [
      "0.8768\n"
     ]
    }
   ],
   "source": [
    "clf = MLPClassifier(solver='sgd',hidden_layer_sizes=(100,),momentum=0.9)\n",
    "clf.fit(X_train,Y_train)\n",
    "pred = clf.predict(X_test)\n",
    "errors = np.count_nonzero(pred-Y_test)\n",
    "mlp_test_acc_80 = (Y_test.size - errors)/Y_test.size\n",
    "print(mlp_test_acc_80)"
   ]
  },
  {
   "cell_type": "markdown",
   "metadata": {},
   "source": [
    "## 50/50 Split"
   ]
  },
  {
   "cell_type": "code",
   "execution_count": 26,
   "metadata": {
    "collapsed": true
   },
   "outputs": [],
   "source": [
    "# Split 50/50\n",
    "X_train = X[:int(len(X)*.5),:]\n",
    "Y_train = Y[:int(len(Y)*.5)]\n",
    "X_test = X[int(len(X)*.5):,:]\n",
    "Y_test = Y[int(len(Y)*.5):]"
   ]
  },
  {
   "cell_type": "markdown",
   "metadata": {},
   "source": [
    "### SVM"
   ]
  },
  {
   "cell_type": "code",
   "execution_count": 27,
   "metadata": {},
   "outputs": [
    {
     "name": "stdout",
     "output_type": "stream",
     "text": [
      "[0.68183963 0.70023992 0.70543966 0.71072043 0.71711998] [0.6768  0.69952 0.70176 0.70272 0.70816]\n"
     ]
    }
   ],
   "source": [
    "model = svm.LinearSVC()\n",
    "C_list = [10**-5,10**-4,10**-3,10**-2,10**-1]\n",
    "clf = GridSearchCV(model,{'C':C_list},cv=5)\n",
    "clf.fit(X_train, Y_train)\n",
    "train_acc = clf.cv_results_['mean_train_score']\n",
    "val_acc = clf.cv_results_['mean_test_score']\n",
    "print(train_acc, val_acc)"
   ]
  },
  {
   "cell_type": "code",
   "execution_count": 37,
   "metadata": {},
   "outputs": [
    {
     "name": "stdout",
     "output_type": "stream",
     "text": [
      "0.72096\n"
     ]
    }
   ],
   "source": [
    "clf = svm.LinearSVC(C=10**-1)\n",
    "clf.fit(X_train,Y_train)\n",
    "pred = clf.predict(X_test)\n",
    "errors = np.count_nonzero(pred-Y_test)\n",
    "svm_test_acc_50 = (Y_test.size - errors)/Y_test.size\n",
    "print(svm_test_acc_50)"
   ]
  },
  {
   "cell_type": "markdown",
   "metadata": {},
   "source": [
    "### KNN"
   ]
  },
  {
   "cell_type": "code",
   "execution_count": 29,
   "metadata": {},
   "outputs": [
    {
     "name": "stdout",
     "output_type": "stream",
     "text": [
      "[1.         0.96760009 0.97031981 0.95688019 0.95296006 0.94736025\n",
      " 0.9427999  0.93568019 0.92911961 0.92552    0.92072025 0.91464019\n",
      " 0.90968025 0.90696012 0.9003199  0.89415919 0.88951964 0.88519996\n",
      " 0.88151977 0.87728012 0.87416038 0.87376028 0.87008006 0.86664009\n",
      " 0.86224038 0.85976009] [0.92768 0.912   0.92256 0.9088  0.9104  0.90176 0.9008  0.896   0.89664\n",
      " 0.88832 0.88288 0.87616 0.87648 0.86912 0.86624 0.8608  0.8592  0.85632\n",
      " 0.85408 0.84832 0.84672 0.84512 0.84512 0.83744 0.83648 0.83424]\n"
     ]
    }
   ],
   "source": [
    "model = KNeighborsClassifier()\n",
    "k = np.arange(1,27)\n",
    "clf = GridSearchCV(model,{'n_neighbors':k},cv=5)\n",
    "clf.fit(X_train, Y_train)\n",
    "train_acc = clf.cv_results_['mean_train_score']\n",
    "val_acc = clf.cv_results_['mean_test_score']\n",
    "print(train_acc, val_acc)"
   ]
  },
  {
   "cell_type": "code",
   "execution_count": 38,
   "metadata": {},
   "outputs": [
    {
     "name": "stdout",
     "output_type": "stream",
     "text": [
      "0.94176\n"
     ]
    }
   ],
   "source": [
    "clf = KNeighborsClassifier(n_neighbors=1)\n",
    "clf.fit(X_train,Y_train)\n",
    "pred = clf.predict(X_test)\n",
    "errors = np.count_nonzero(pred-Y_test)\n",
    "knn_test_acc_50 = (Y_test.size - errors)/Y_test.size\n",
    "print(knn_test_acc_50)"
   ]
  },
  {
   "cell_type": "markdown",
   "metadata": {},
   "source": [
    "### Decision Trees"
   ]
  },
  {
   "cell_type": "code",
   "execution_count": 31,
   "metadata": {},
   "outputs": [
    {
     "name": "stdout",
     "output_type": "stream",
     "text": [
      "[0.78096127 0.92928022 0.99000026 0.99952    1.        ] [0.74816 0.83008 0.84672 0.84768 0.8496 ]\n"
     ]
    }
   ],
   "source": [
    "model = tree.DecisionTreeClassifier()\n",
    "D = [5,10,15,20,25]\n",
    "clf = GridSearchCV(model,{'max_depth':D},cv=5)\n",
    "clf.fit(X_train, Y_train)\n",
    "train_acc = clf.cv_results_['mean_train_score']\n",
    "val_acc = clf.cv_results_['mean_test_score']\n",
    "print(train_acc, val_acc)"
   ]
  },
  {
   "cell_type": "code",
   "execution_count": 40,
   "metadata": {},
   "outputs": [
    {
     "name": "stdout",
     "output_type": "stream",
     "text": [
      "0.8624\n"
     ]
    }
   ],
   "source": [
    "clf = tree.DecisionTreeClassifier(max_depth=25)\n",
    "clf.fit(X_train,Y_train)\n",
    "pred = clf.predict(X_test)\n",
    "errors = np.count_nonzero(pred-Y_test)\n",
    "dt_test_acc_50 = (Y_test.size - errors)/Y_test.size\n",
    "print(dt_test_acc_50)"
   ]
  },
  {
   "cell_type": "markdown",
   "metadata": {},
   "source": [
    "### Random Forest"
   ]
  },
  {
   "cell_type": "code",
   "execution_count": 33,
   "metadata": {},
   "outputs": [
    {
     "name": "stdout",
     "output_type": "stream",
     "text": [
      "[1.         1.         0.99911997 0.99695997 0.98967994 0.98055984\n",
      " 0.97415977] [0.91872 0.91392 0.91104 0.91104 0.9024  0.8992  0.8944 ]\n"
     ]
    }
   ],
   "source": [
    "model = RandomForestClassifier(n_estimators=1024)\n",
    "clf = GridSearchCV(model,{'min_samples_split':[2,4,6,8,12,16,20]},cv=5)\n",
    "clf.fit(X_train, Y_train)\n",
    "train_acc = clf.cv_results_['mean_train_score']\n",
    "val_acc = clf.cv_results_['mean_test_score']\n",
    "print(train_acc, val_acc)"
   ]
  },
  {
   "cell_type": "code",
   "execution_count": 42,
   "metadata": {},
   "outputs": [
    {
     "name": "stdout",
     "output_type": "stream",
     "text": [
      "0.93024\n"
     ]
    }
   ],
   "source": [
    "clf =  RandomForestClassifier(n_estimators=1024, min_samples_split=2)\n",
    "clf.fit(X_train,Y_train)\n",
    "pred = clf.predict(X_test)\n",
    "errors = np.count_nonzero(pred-Y_test)\n",
    "rf_test_acc_50 = (Y_test.size - errors)/Y_test.size\n",
    "print(rf_test_acc_50)"
   ]
  },
  {
   "cell_type": "markdown",
   "metadata": {},
   "source": [
    "### Neural Network"
   ]
  },
  {
   "cell_type": "code",
   "execution_count": 35,
   "metadata": {},
   "outputs": [
    {
     "name": "stdout",
     "output_type": "stream",
     "text": [
      "[0.55607319 0.52007965 0.53447018 0.53817501 0.67904279 0.70064113\n",
      " 0.70463816 0.75496629 0.7143204  0.72047877 0.73943896 0.81272744] [0.55904 0.50528 0.5296  0.53856 0.66784 0.70048 0.6944  0.7296  0.70688\n",
      " 0.70976 0.73184 0.78848]\n"
     ]
    }
   ],
   "source": [
    "model = MLPClassifier(solver='sgd')\n",
    "param = {'hidden_layer_sizes':[(1,),(10,),(100,)],'momentum':[0,0.2,0.5,0.9]}\n",
    "clf = GridSearchCV(model,param,cv=5)\n",
    "clf.fit(X_train, Y_train)\n",
    "train_acc = clf.cv_results_['mean_train_score']\n",
    "val_acc = clf.cv_results_['mean_test_score']\n",
    "print(train_acc, val_acc)"
   ]
  },
  {
   "cell_type": "code",
   "execution_count": 45,
   "metadata": {},
   "outputs": [
    {
     "name": "stdout",
     "output_type": "stream",
     "text": [
      "0.72064\n"
     ]
    }
   ],
   "source": [
    "clf = MLPClassifier(solver='sgd',hidden_layer_sizes=(100,),momentum=0.9)\n",
    "clf.fit(X_train,Y_train)\n",
    "pred = clf.predict(X_test)\n",
    "errors = np.count_nonzero(pred-Y_test)\n",
    "mlp_test_acc_50 = (Y_test.size - errors)/Y_test.size\n",
    "print(mlp_test_acc_50)"
   ]
  },
  {
   "cell_type": "markdown",
   "metadata": {},
   "source": [
    "## 20/80 Split"
   ]
  },
  {
   "cell_type": "code",
   "execution_count": 55,
   "metadata": {
    "collapsed": true
   },
   "outputs": [],
   "source": [
    "# Split 20/80\n",
    "X_train = X[:int(len(X)*.2),:]\n",
    "Y_train = Y[:int(len(Y)*.2)]\n",
    "X_test = X[int(len(X)*.2):,:]\n",
    "Y_test = Y[int(len(Y)*.2):]"
   ]
  },
  {
   "cell_type": "markdown",
   "metadata": {},
   "source": [
    "### SVM"
   ]
  },
  {
   "cell_type": "code",
   "execution_count": 47,
   "metadata": {},
   "outputs": [
    {
     "name": "stdout",
     "output_type": "stream",
     "text": [
      "[0.67219667 0.68859948 0.71239529 0.72019509 0.73039589] [0.6672 0.6824 0.7104 0.712  0.716 ]\n"
     ]
    }
   ],
   "source": [
    "model = svm.LinearSVC()\n",
    "C_list = [10**-5,10**-4,10**-3,10**-2,10**-1]\n",
    "clf = GridSearchCV(model,{'C':C_list},cv=5)\n",
    "clf.fit(X_train, Y_train)\n",
    "train_acc = clf.cv_results_['mean_train_score']\n",
    "val_acc = clf.cv_results_['mean_test_score']\n",
    "print(train_acc, val_acc)"
   ]
  },
  {
   "cell_type": "code",
   "execution_count": 50,
   "metadata": {},
   "outputs": [
    {
     "name": "stdout",
     "output_type": "stream",
     "text": [
      "0.7148\n"
     ]
    }
   ],
   "source": [
    "clf = svm.LinearSVC(C=10**-1)\n",
    "clf.fit(X_train,Y_train)\n",
    "pred = clf.predict(X_test)\n",
    "errors = np.count_nonzero(pred-Y_test)\n",
    "svm_test_acc_20 = (Y_test.size - errors)/Y_test.size\n",
    "print(svm_test_acc_20)"
   ]
  },
  {
   "cell_type": "markdown",
   "metadata": {},
   "source": [
    "### KNN"
   ]
  },
  {
   "cell_type": "code",
   "execution_count": 56,
   "metadata": {},
   "outputs": [
    {
     "name": "stdout",
     "output_type": "stream",
     "text": [
      "[1.         0.94240018 0.94599838 0.91459916 0.91679737 0.90000136\n",
      " 0.89300056 0.88119655 0.87099914 0.86459854 0.85999754 0.85379754\n",
      " 0.84500114 0.84600074 0.83920333 0.83400173 0.82900333 0.82720253\n",
      " 0.81720292 0.81800012 0.81460012 0.81259952 0.81019992 0.80740072\n",
      " 0.80420332 0.80180132] [0.8864 0.8488 0.8656 0.8368 0.852  0.8352 0.8264 0.8152 0.8112 0.8008\n",
      " 0.8016 0.8016 0.7976 0.7888 0.7928 0.7832 0.7736 0.7816 0.776  0.7768\n",
      " 0.7728 0.7688 0.7744 0.7728 0.7752 0.7704]\n"
     ]
    }
   ],
   "source": [
    "model = KNeighborsClassifier()\n",
    "k = np.arange(1,27)\n",
    "clf = GridSearchCV(model,{'n_neighbors':k},cv=5)\n",
    "clf.fit(X_train, Y_train)\n",
    "train_acc = clf.cv_results_['mean_train_score']\n",
    "val_acc = clf.cv_results_['mean_test_score']\n",
    "print(train_acc, val_acc)"
   ]
  },
  {
   "cell_type": "code",
   "execution_count": 57,
   "metadata": {},
   "outputs": [
    {
     "name": "stdout",
     "output_type": "stream",
     "text": [
      "0.9012\n"
     ]
    }
   ],
   "source": [
    "clf = KNeighborsClassifier(n_neighbors=1)\n",
    "clf.fit(X_train,Y_train)\n",
    "pred = clf.predict(X_test)\n",
    "errors = np.count_nonzero(pred-Y_test)\n",
    "knn_test_acc_20 = (Y_test.size - errors)/Y_test.size\n",
    "print(knn_test_acc_20)"
   ]
  },
  {
   "cell_type": "markdown",
   "metadata": {},
   "source": [
    "### Decision Trees"
   ]
  },
  {
   "cell_type": "code",
   "execution_count": 58,
   "metadata": {},
   "outputs": [
    {
     "name": "stdout",
     "output_type": "stream",
     "text": [
      "[0.80919353 0.95960198 0.9978     1.         1.        ] [0.7592 0.8104 0.8072 0.8112 0.7984]\n"
     ]
    }
   ],
   "source": [
    "model = tree.DecisionTreeClassifier()\n",
    "D = [5,10,15,20,25]\n",
    "clf = GridSearchCV(model,{'max_depth':D},cv=5)\n",
    "clf.fit(X_train, Y_train)\n",
    "train_acc = clf.cv_results_['mean_train_score']\n",
    "val_acc = clf.cv_results_['mean_test_score']\n",
    "print(train_acc, val_acc)"
   ]
  },
  {
   "cell_type": "code",
   "execution_count": 64,
   "metadata": {},
   "outputs": [
    {
     "name": "stdout",
     "output_type": "stream",
     "text": [
      "0.8308\n"
     ]
    }
   ],
   "source": [
    "clf = tree.DecisionTreeClassifier(max_depth=20)\n",
    "clf.fit(X_train,Y_train)\n",
    "pred = clf.predict(X_test)\n",
    "errors = np.count_nonzero(pred-Y_test)\n",
    "dt_test_acc_20 = (Y_test.size - errors)/Y_test.size\n",
    "print(dt_test_acc_20)"
   ]
  },
  {
   "cell_type": "markdown",
   "metadata": {},
   "source": [
    "### Random Forest"
   ]
  },
  {
   "cell_type": "code",
   "execution_count": 65,
   "metadata": {},
   "outputs": [
    {
     "name": "stdout",
     "output_type": "stream",
     "text": [
      "[1.         1.         0.9992002  0.9972004  0.98320019 0.97000039\n",
      " 0.95980058] [0.892  0.8912 0.8912 0.8808 0.8744 0.8688 0.86  ]\n"
     ]
    }
   ],
   "source": [
    "model = RandomForestClassifier(n_estimators=1024)\n",
    "clf = GridSearchCV(model,{'min_samples_split':[2,4,6,8,12,16,20]},cv=5)\n",
    "clf.fit(X_train, Y_train)\n",
    "train_acc = clf.cv_results_['mean_train_score']\n",
    "val_acc = clf.cv_results_['mean_test_score']\n",
    "print(train_acc, val_acc)"
   ]
  },
  {
   "cell_type": "code",
   "execution_count": 68,
   "metadata": {},
   "outputs": [
    {
     "name": "stdout",
     "output_type": "stream",
     "text": [
      "0.876\n"
     ]
    }
   ],
   "source": [
    "clf =  RandomForestClassifier(n_estimators=1024, min_samples_split=2)\n",
    "clf.fit(X_train,Y_train)\n",
    "pred = clf.predict(X_test)\n",
    "errors = np.count_nonzero(pred-Y_test)\n",
    "rf_test_acc_20 = (Y_test.size - errors)/Y_test.size\n",
    "print(rf_test_acc_20)"
   ]
  },
  {
   "cell_type": "markdown",
   "metadata": {},
   "source": [
    "### Neural Network"
   ]
  },
  {
   "cell_type": "code",
   "execution_count": 69,
   "metadata": {},
   "outputs": [
    {
     "name": "stdout",
     "output_type": "stream",
     "text": [
      "[0.5073926  0.4874     0.49239399 0.58899081 0.64141025 0.64802105\n",
      " 0.65862086 0.72860888 0.68762266 0.68402406 0.68401826 0.75261809] [0.5088 0.4712 0.4912 0.588  0.648  0.6432 0.6464 0.7256 0.6888 0.688\n",
      " 0.6864 0.7368]\n"
     ]
    }
   ],
   "source": [
    "model = MLPClassifier(solver='sgd')\n",
    "param = {'hidden_layer_sizes':[(1,),(10,),(100,)],'momentum':[0,0.2,0.5,0.9]}\n",
    "clf = GridSearchCV(model,param,cv=5)\n",
    "clf.fit(X_train, Y_train)\n",
    "train_acc = clf.cv_results_['mean_train_score']\n",
    "val_acc = clf.cv_results_['mean_test_score']\n",
    "print(train_acc, val_acc)"
   ]
  },
  {
   "cell_type": "code",
   "execution_count": 72,
   "metadata": {},
   "outputs": [
    {
     "name": "stdout",
     "output_type": "stream",
     "text": [
      "0.7282\n"
     ]
    }
   ],
   "source": [
    "clf = MLPClassifier(solver='sgd',hidden_layer_sizes=(100,),momentum=0.9)\n",
    "clf.fit(X_train,Y_train)\n",
    "pred = clf.predict(X_test)\n",
    "errors = np.count_nonzero(pred-Y_test)\n",
    "mlp_test_acc_20 = (Y_test.size - errors)/Y_test.size\n",
    "print(mlp_test_acc_20)"
   ]
  },
  {
   "cell_type": "code",
   "execution_count": null,
   "metadata": {
    "collapsed": true
   },
   "outputs": [],
   "source": []
  }
 ],
 "metadata": {
  "kernelspec": {
   "display_name": "Python 3",
   "language": "python",
   "name": "python3"
  },
  "language_info": {
   "codemirror_mode": {
    "name": "ipython",
    "version": 3
   },
   "file_extension": ".py",
   "mimetype": "text/x-python",
   "name": "python",
   "nbconvert_exporter": "python",
   "pygments_lexer": "ipython3",
   "version": "3.6.3"
  },
  "varInspector": {
   "cols": {
    "lenName": 16,
    "lenType": 16,
    "lenVar": 40
   },
   "kernels_config": {
    "python": {
     "delete_cmd_postfix": "",
     "delete_cmd_prefix": "del ",
     "library": "var_list.py",
     "varRefreshCmd": "print(var_dic_list())"
    },
    "r": {
     "delete_cmd_postfix": ") ",
     "delete_cmd_prefix": "rm(",
     "library": "var_list.r",
     "varRefreshCmd": "cat(var_dic_list()) "
    }
   },
   "types_to_exclude": [
    "module",
    "function",
    "builtin_function_or_method",
    "instance",
    "_Feature"
   ],
   "window_display": false
  }
 },
 "nbformat": 4,
 "nbformat_minor": 2
}
