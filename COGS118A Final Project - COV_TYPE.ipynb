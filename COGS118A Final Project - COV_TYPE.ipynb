{
 "cells": [
  {
   "cell_type": "code",
   "execution_count": 1,
   "metadata": {
    "collapsed": true
   },
   "outputs": [],
   "source": [
    "import pandas as pd\n",
    "from sklearn.utils import shuffle\n",
    "import numpy as np\n",
    "import matplotlib.pyplot as plt\n",
    "from sklearn import svm\n",
    "from sklearn.neighbors import KNeighborsClassifier\n",
    "from sklearn import tree\n",
    "from sklearn.ensemble import RandomForestClassifier\n",
    "from sklearn.neural_network import MLPClassifier\n",
    "from sklearn.model_selection import GridSearchCV\n",
    "from statistics import mode"
   ]
  },
  {
   "cell_type": "code",
   "execution_count": 2,
   "metadata": {
    "collapsed": true
   },
   "outputs": [],
   "source": [
    "import warnings\n",
    "warnings.filterwarnings(\"ignore\")"
   ]
  },
  {
   "cell_type": "markdown",
   "metadata": {},
   "source": [
    "# COV_TYPE"
   ]
  },
  {
   "cell_type": "code",
   "execution_count": 2,
   "metadata": {},
   "outputs": [
    {
     "name": "stdout",
     "output_type": "stream",
     "text": [
      "(581012, 55)\n"
     ]
    }
   ],
   "source": [
    "data = pd.read_csv('covtype.data',header=-1)\n",
    "data = shuffle(data)\n",
    "print(data.shape)"
   ]
  },
  {
   "cell_type": "code",
   "execution_count": 3,
   "metadata": {},
   "outputs": [
    {
     "name": "stdout",
     "output_type": "stream",
     "text": [
      "(6250, 54)\n"
     ]
    }
   ],
   "source": [
    "X = data.iloc[:6250,:54].values\n",
    "Y = data.iloc[:6250,54].values\n",
    "boolean = mode(Y)==Y\n",
    "for i in range(boolean.size):\n",
    "    if boolean[i] == True:\n",
    "        Y[i]= 1\n",
    "    else:\n",
    "        Y[i]=-1\n",
    "print(X.shape)"
   ]
  },
  {
   "cell_type": "markdown",
   "metadata": {},
   "source": [
    "## 80/20 Split"
   ]
  },
  {
   "cell_type": "code",
   "execution_count": 4,
   "metadata": {
    "collapsed": true
   },
   "outputs": [],
   "source": [
    "X_train = X[:int(len(X)*.8),:]\n",
    "Y_train = Y[:int(len(Y)*.8)]\n",
    "X_test = X[int(len(X)*.8):,:]\n",
    "Y_test = Y[int(len(Y)*.8):]"
   ]
  },
  {
   "cell_type": "markdown",
   "metadata": {},
   "source": [
    "### SVM"
   ]
  },
  {
   "cell_type": "code",
   "execution_count": 7,
   "metadata": {},
   "outputs": [
    {
     "name": "stdout",
     "output_type": "stream",
     "text": [
      "[0.62184898 0.52790328 0.51189909 0.51520281 0.51370033] [0.6176 0.5304 0.5086 0.518  0.515 ]\n"
     ]
    }
   ],
   "source": [
    "model = svm.LinearSVC()\n",
    "C_list = [10**-5,10**-4,10**-3,10**-2,10**-1]\n",
    "clf = GridSearchCV(model,{'C':C_list},cv=5)\n",
    "clf.fit(X_train, Y_train)\n",
    "train_acc = clf.cv_results_['mean_train_score']\n",
    "val_acc = clf.cv_results_['mean_test_score']\n",
    "print(train_acc, val_acc)"
   ]
  },
  {
   "cell_type": "code",
   "execution_count": 12,
   "metadata": {},
   "outputs": [
    {
     "name": "stdout",
     "output_type": "stream",
     "text": [
      "0.624\n"
     ]
    }
   ],
   "source": [
    "clf = svm.LinearSVC(C=10**-5)\n",
    "clf.fit(X_train,Y_train)\n",
    "pred = clf.predict(X_test)\n",
    "errors = np.count_nonzero(pred-Y_test)\n",
    "svm_test_acc_80 = (Y_test.size - errors)/Y_test.size\n",
    "print(svm_test_acc_80)"
   ]
  },
  {
   "cell_type": "markdown",
   "metadata": {},
   "source": [
    "### KNN"
   ]
  },
  {
   "cell_type": "code",
   "execution_count": 13,
   "metadata": {},
   "outputs": [
    {
     "name": "stdout",
     "output_type": "stream",
     "text": [
      "[1.         0.89329984 0.89030021 0.85440001 0.84830006 0.82849985\n",
      " 0.82359985 0.80994944 0.81034968 0.8007492  0.79860008 0.79189993\n",
      " 0.79044973 0.78734963 0.78249975 0.77834958 0.77520026 0.77224945\n",
      " 0.77035    0.76675003 0.76305003 0.76240014 0.75859991 0.7576999\n",
      " 0.75684976 0.7554993 ] [0.7764 0.7452 0.7662 0.7484 0.7588 0.7512 0.7504 0.7464 0.7552 0.746\n",
      " 0.7522 0.7462 0.7494 0.741  0.7388 0.7368 0.7402 0.7376 0.7342 0.7344\n",
      " 0.7328 0.7326 0.7298 0.7308 0.7302 0.7298]\n"
     ]
    }
   ],
   "source": [
    "model = KNeighborsClassifier()\n",
    "k = np.arange(1,27)\n",
    "clf = GridSearchCV(model,{'n_neighbors':k},cv=5)\n",
    "clf.fit(X_train, Y_train)\n",
    "train_acc = clf.cv_results_['mean_train_score']\n",
    "val_acc = clf.cv_results_['mean_test_score']\n",
    "print(train_acc, val_acc)"
   ]
  },
  {
   "cell_type": "code",
   "execution_count": 16,
   "metadata": {},
   "outputs": [
    {
     "name": "stdout",
     "output_type": "stream",
     "text": [
      "0.784\n"
     ]
    }
   ],
   "source": [
    "clf = KNeighborsClassifier(n_neighbors=1)\n",
    "clf.fit(X_train,Y_train)\n",
    "pred = clf.predict(X_test)\n",
    "errors = np.count_nonzero(pred-Y_test)\n",
    "knn_test_acc_80 = (Y_test.size - errors)/Y_test.size\n",
    "print(knn_test_acc_80)"
   ]
  },
  {
   "cell_type": "markdown",
   "metadata": {},
   "source": [
    "### Decision Trees"
   ]
  },
  {
   "cell_type": "code",
   "execution_count": 40,
   "metadata": {},
   "outputs": [
    {
     "name": "stdout",
     "output_type": "stream",
     "text": [
      "[0.77656 0.87472 0.9468  0.98592 0.99752] [0.73664 0.75552 0.74368 0.72896 0.72448]\n"
     ]
    }
   ],
   "source": [
    "model = tree.DecisionTreeClassifier()\n",
    "D = [5,10,15,20,25]\n",
    "clf = GridSearchCV(model,{'max_depth':D},cv=5)\n",
    "clf.fit(X_train, Y_train)\n",
    "train_acc = clf.cv_results_['mean_train_score']\n",
    "val_acc = clf.cv_results_['mean_test_score']\n",
    "print(train_acc, val_acc)"
   ]
  },
  {
   "cell_type": "code",
   "execution_count": 20,
   "metadata": {},
   "outputs": [
    {
     "name": "stdout",
     "output_type": "stream",
     "text": [
      "0.7752\n"
     ]
    }
   ],
   "source": [
    "clf = tree.DecisionTreeClassifier(max_depth=10)\n",
    "clf.fit(X_train,Y_train)\n",
    "pred = clf.predict(X_test)\n",
    "errors = np.count_nonzero(pred-Y_test)\n",
    "dt_test_acc_80 = (Y_test.size - errors)/Y_test.size\n",
    "print(dt_test_acc_80)"
   ]
  },
  {
   "cell_type": "markdown",
   "metadata": {},
   "source": [
    "### Random Forest"
   ]
  },
  {
   "cell_type": "code",
   "execution_count": 22,
   "metadata": {},
   "outputs": [
    {
     "name": "stdout",
     "output_type": "stream",
     "text": [
      "[1.         0.99895002 0.99015017 0.97695017 0.95069982 0.9297997\n",
      " 0.9111995 ] [0.8132 0.81   0.8082 0.8082 0.8032 0.8036 0.7982]\n"
     ]
    }
   ],
   "source": [
    "model = RandomForestClassifier(n_estimators=1024)\n",
    "clf = GridSearchCV(model,{'min_samples_split':[2,4,6,8,12,16,20]},cv=5)\n",
    "clf.fit(X_train, Y_train)\n",
    "train_acc = clf.cv_results_['mean_train_score']\n",
    "val_acc = clf.cv_results_['mean_test_score']\n",
    "print(train_acc, val_acc)"
   ]
  },
  {
   "cell_type": "code",
   "execution_count": 25,
   "metadata": {},
   "outputs": [
    {
     "name": "stdout",
     "output_type": "stream",
     "text": [
      "0.816\n"
     ]
    }
   ],
   "source": [
    "clf =  RandomForestClassifier(n_estimators=1024, min_samples_split=2)\n",
    "clf.fit(X_train,Y_train)\n",
    "pred = clf.predict(X_test)\n",
    "errors = np.count_nonzero(pred-Y_test)\n",
    "rf_test_acc_80 = (Y_test.size - errors)/Y_test.size\n",
    "print(rf_test_acc_80)"
   ]
  },
  {
   "cell_type": "markdown",
   "metadata": {},
   "source": [
    "### Neural Network"
   ]
  },
  {
   "cell_type": "code",
   "execution_count": 5,
   "metadata": {},
   "outputs": [
    {
     "name": "stderr",
     "output_type": "stream",
     "text": [
      "/anaconda3/lib/python3.6/site-packages/sklearn/neural_network/multilayer_perceptron.py:564: ConvergenceWarning: Stochastic Optimizer: Maximum iterations (200) reached and the optimization hasn't converged yet.\n",
      "  % self.max_iter, ConvergenceWarning)\n",
      "/anaconda3/lib/python3.6/site-packages/sklearn/neural_network/multilayer_perceptron.py:564: ConvergenceWarning: Stochastic Optimizer: Maximum iterations (200) reached and the optimization hasn't converged yet.\n",
      "  % self.max_iter, ConvergenceWarning)\n",
      "/anaconda3/lib/python3.6/site-packages/sklearn/neural_network/multilayer_perceptron.py:564: ConvergenceWarning: Stochastic Optimizer: Maximum iterations (200) reached and the optimization hasn't converged yet.\n",
      "  % self.max_iter, ConvergenceWarning)\n",
      "/anaconda3/lib/python3.6/site-packages/sklearn/neural_network/multilayer_perceptron.py:564: ConvergenceWarning: Stochastic Optimizer: Maximum iterations (200) reached and the optimization hasn't converged yet.\n",
      "  % self.max_iter, ConvergenceWarning)\n",
      "/anaconda3/lib/python3.6/site-packages/sklearn/neural_network/multilayer_perceptron.py:564: ConvergenceWarning: Stochastic Optimizer: Maximum iterations (200) reached and the optimization hasn't converged yet.\n",
      "  % self.max_iter, ConvergenceWarning)\n",
      "/anaconda3/lib/python3.6/site-packages/sklearn/neural_network/multilayer_perceptron.py:564: ConvergenceWarning: Stochastic Optimizer: Maximum iterations (200) reached and the optimization hasn't converged yet.\n",
      "  % self.max_iter, ConvergenceWarning)\n",
      "/anaconda3/lib/python3.6/site-packages/sklearn/neural_network/multilayer_perceptron.py:564: ConvergenceWarning: Stochastic Optimizer: Maximum iterations (200) reached and the optimization hasn't converged yet.\n",
      "  % self.max_iter, ConvergenceWarning)\n",
      "/anaconda3/lib/python3.6/site-packages/sklearn/neural_network/multilayer_perceptron.py:564: ConvergenceWarning: Stochastic Optimizer: Maximum iterations (200) reached and the optimization hasn't converged yet.\n",
      "  % self.max_iter, ConvergenceWarning)\n",
      "/anaconda3/lib/python3.6/site-packages/sklearn/neural_network/multilayer_perceptron.py:564: ConvergenceWarning: Stochastic Optimizer: Maximum iterations (200) reached and the optimization hasn't converged yet.\n",
      "  % self.max_iter, ConvergenceWarning)\n"
     ]
    },
    {
     "name": "stdout",
     "output_type": "stream",
     "text": [
      "[0.49690313 0.49689687 0.49684844 0.50309687 0.4971     0.50024761\n",
      " 0.50944841 0.51004861 0.55450399 0.52730499 0.52740636 0.50765019] [0.4968 0.4968 0.497  0.5032 0.4968 0.5048 0.5094 0.5108 0.553  0.526\n",
      " 0.5272 0.508 ]\n"
     ]
    },
    {
     "name": "stderr",
     "output_type": "stream",
     "text": [
      "/anaconda3/lib/python3.6/site-packages/sklearn/utils/deprecation.py:122: FutureWarning: You are accessing a training score ('mean_train_score'), which will not be available by default any more in 0.21. If you need training scores, please set return_train_score=True\n",
      "  warnings.warn(*warn_args, **warn_kwargs)\n"
     ]
    }
   ],
   "source": [
    "model = MLPClassifier(solver='sgd')\n",
    "param = {'hidden_layer_sizes':[(1,),(10,),(100,)],'momentum':[0,0.2,0.5,0.9]}\n",
    "clf = GridSearchCV(model,param,cv=5)\n",
    "clf.fit(X_train, Y_train)\n",
    "train_acc = clf.cv_results_['mean_train_score']\n",
    "val_acc = clf.cv_results_['mean_test_score']\n",
    "print(train_acc, val_acc)"
   ]
  },
  {
   "cell_type": "code",
   "execution_count": 29,
   "metadata": {},
   "outputs": [
    {
     "name": "stdout",
     "output_type": "stream",
     "text": [
      "0.56\n"
     ]
    }
   ],
   "source": [
    "clf = MLPClassifier(solver='sgd',hidden_layer_sizes=(100,),momentum=0)\n",
    "clf.fit(X_train,Y_train)\n",
    "pred = clf.predict(X_test)\n",
    "errors = np.count_nonzero(pred-Y_test)\n",
    "mlp_test_acc_80 = (Y_test.size - errors)/Y_test.size\n",
    "print(mlp_test_acc_80)"
   ]
  },
  {
   "cell_type": "markdown",
   "metadata": {},
   "source": [
    "## 50/50 Split"
   ]
  },
  {
   "cell_type": "code",
   "execution_count": 30,
   "metadata": {
    "collapsed": true
   },
   "outputs": [],
   "source": [
    "# Split 50/50\n",
    "X_train = X[:int(len(X)*.5),:]\n",
    "Y_train = Y[:int(len(Y)*.5)]\n",
    "X_test = X[int(len(X)*.5):,:]\n",
    "Y_test = Y[int(len(Y)*.5):]"
   ]
  },
  {
   "cell_type": "markdown",
   "metadata": {},
   "source": [
    "### SVM"
   ]
  },
  {
   "cell_type": "code",
   "execution_count": 31,
   "metadata": {},
   "outputs": [
    {
     "name": "stdout",
     "output_type": "stream",
     "text": [
      "[0.60568 0.52536 0.5172  0.49712 0.53664] [0.59712 0.53248 0.51232 0.49824 0.53088]\n"
     ]
    }
   ],
   "source": [
    "model = svm.LinearSVC()\n",
    "C_list = [10**-5,10**-4,10**-3,10**-2,10**-1]\n",
    "clf = GridSearchCV(model,{'C':C_list},cv=5)\n",
    "clf.fit(X_train, Y_train)\n",
    "train_acc = clf.cv_results_['mean_train_score']\n",
    "val_acc = clf.cv_results_['mean_test_score']\n",
    "print(train_acc, val_acc)"
   ]
  },
  {
   "cell_type": "code",
   "execution_count": 36,
   "metadata": {},
   "outputs": [
    {
     "name": "stdout",
     "output_type": "stream",
     "text": [
      "0.58848\n"
     ]
    }
   ],
   "source": [
    "clf = svm.LinearSVC(C=10**-5)\n",
    "clf.fit(X_train,Y_train)\n",
    "pred = clf.predict(X_test)\n",
    "errors = np.count_nonzero(pred-Y_test)\n",
    "svm_test_acc_50 = (Y_test.size - errors)/Y_test.size\n",
    "print(svm_test_acc_50)"
   ]
  },
  {
   "cell_type": "markdown",
   "metadata": {},
   "source": [
    "### KNN"
   ]
  },
  {
   "cell_type": "code",
   "execution_count": 37,
   "metadata": {},
   "outputs": [
    {
     "name": "stdout",
     "output_type": "stream",
     "text": [
      "[1.      0.87696 0.87264 0.83512 0.83472 0.81456 0.81672 0.79736 0.79232\n",
      " 0.78552 0.7796  0.77352 0.77008 0.76448 0.76328 0.75816 0.7556  0.75488\n",
      " 0.75184 0.74968 0.74824 0.7456  0.7408  0.73928 0.73696 0.73424] [0.75712 0.7152  0.73952 0.72736 0.7392  0.73024 0.73984 0.7328  0.73536\n",
      " 0.72416 0.72992 0.72224 0.71936 0.72128 0.71648 0.72096 0.72128 0.7168\n",
      " 0.7152  0.70976 0.70688 0.7056  0.70048 0.69504 0.696   0.68992]\n"
     ]
    }
   ],
   "source": [
    "model = KNeighborsClassifier()\n",
    "k = np.arange(1,27)\n",
    "clf = GridSearchCV(model,{'n_neighbors':k},cv=5)\n",
    "clf.fit(X_train, Y_train)\n",
    "train_acc = clf.cv_results_['mean_train_score']\n",
    "val_acc = clf.cv_results_['mean_test_score']\n",
    "print(train_acc, val_acc)"
   ]
  },
  {
   "cell_type": "code",
   "execution_count": 39,
   "metadata": {},
   "outputs": [
    {
     "name": "stdout",
     "output_type": "stream",
     "text": [
      "0.76064\n"
     ]
    }
   ],
   "source": [
    "clf = KNeighborsClassifier(n_neighbors=1)\n",
    "clf.fit(X_train,Y_train)\n",
    "pred = clf.predict(X_test)\n",
    "errors = np.count_nonzero(pred-Y_test)\n",
    "knn_test_acc_50 = (Y_test.size - errors)/Y_test.size\n",
    "print(knn_test_acc_50)"
   ]
  },
  {
   "cell_type": "markdown",
   "metadata": {},
   "source": [
    "### Decision Trees"
   ]
  },
  {
   "cell_type": "code",
   "execution_count": 41,
   "metadata": {},
   "outputs": [
    {
     "name": "stdout",
     "output_type": "stream",
     "text": [
      "[0.77656 0.87456 0.94712 0.98536 0.99784] [0.73728 0.75328 0.73888 0.72736 0.72096]\n"
     ]
    }
   ],
   "source": [
    "model = tree.DecisionTreeClassifier()\n",
    "D = [5,10,15,20,25]\n",
    "clf = GridSearchCV(model,{'max_depth':D},cv=5)\n",
    "clf.fit(X_train, Y_train)\n",
    "train_acc = clf.cv_results_['mean_train_score']\n",
    "val_acc = clf.cv_results_['mean_test_score']\n",
    "print(train_acc, val_acc)"
   ]
  },
  {
   "cell_type": "code",
   "execution_count": 44,
   "metadata": {},
   "outputs": [
    {
     "name": "stdout",
     "output_type": "stream",
     "text": [
      "0.75808\n"
     ]
    }
   ],
   "source": [
    "clf = tree.DecisionTreeClassifier(max_depth=10)\n",
    "clf.fit(X_train,Y_train)\n",
    "pred = clf.predict(X_test)\n",
    "errors = np.count_nonzero(pred-Y_test)\n",
    "dt_test_acc_50 = (Y_test.size - errors)/Y_test.size\n",
    "print(dt_test_acc_50)"
   ]
  },
  {
   "cell_type": "markdown",
   "metadata": {},
   "source": [
    "### Random Forest"
   ]
  },
  {
   "cell_type": "code",
   "execution_count": 45,
   "metadata": {},
   "outputs": [
    {
     "name": "stdout",
     "output_type": "stream",
     "text": [
      "[1.      0.99848 0.98768 0.9772  0.95408 0.9308  0.91192] [0.80672 0.80576 0.80288 0.8     0.79968 0.79712 0.79392]\n"
     ]
    }
   ],
   "source": [
    "model = RandomForestClassifier(n_estimators=1024)\n",
    "clf = GridSearchCV(model,{'min_samples_split':[2,4,6,8,12,16,20]},cv=5)\n",
    "clf.fit(X_train, Y_train)\n",
    "train_acc = clf.cv_results_['mean_train_score']\n",
    "val_acc = clf.cv_results_['mean_test_score']\n",
    "print(train_acc, val_acc)"
   ]
  },
  {
   "cell_type": "code",
   "execution_count": 48,
   "metadata": {},
   "outputs": [
    {
     "name": "stdout",
     "output_type": "stream",
     "text": [
      "0.80928\n"
     ]
    }
   ],
   "source": [
    "clf =  RandomForestClassifier(n_estimators=1024, min_samples_split=2)\n",
    "clf.fit(X_train,Y_train)\n",
    "pred = clf.predict(X_test)\n",
    "errors = np.count_nonzero(pred-Y_test)\n",
    "rf_test_acc_50 = (Y_test.size - errors)/Y_test.size\n",
    "print(rf_test_acc_50)"
   ]
  },
  {
   "cell_type": "markdown",
   "metadata": {},
   "source": [
    "### Neural Network"
   ]
  },
  {
   "cell_type": "code",
   "execution_count": 49,
   "metadata": {},
   "outputs": [
    {
     "name": "stdout",
     "output_type": "stream",
     "text": [
      "[0.50816 0.5136  0.50272 0.4864  0.50504 0.4984  0.50816 0.50272 0.54712\n",
      " 0.5336  0.5376  0.52128] [0.50816 0.5136  0.50272 0.4864  0.5072  0.49824 0.50816 0.50272 0.5376\n",
      " 0.52672 0.53472 0.52032]\n"
     ]
    }
   ],
   "source": [
    "model = MLPClassifier(solver='sgd')\n",
    "param = {'hidden_layer_sizes':[(1,),(10,),(100,)],'momentum':[0,0.2,0.5,0.9]}\n",
    "clf = GridSearchCV(model,param,cv=5)\n",
    "clf.fit(X_train, Y_train)\n",
    "train_acc = clf.cv_results_['mean_train_score']\n",
    "val_acc = clf.cv_results_['mean_test_score']\n",
    "print(train_acc, val_acc)"
   ]
  },
  {
   "cell_type": "code",
   "execution_count": 74,
   "metadata": {},
   "outputs": [
    {
     "name": "stdout",
     "output_type": "stream",
     "text": [
      "0.5192\n"
     ]
    }
   ],
   "source": [
    "clf = MLPClassifier(solver='sgd',hidden_layer_sizes=(100,),momentum=0)\n",
    "clf.fit(X_train,Y_train)\n",
    "pred = clf.predict(X_test)\n",
    "errors = np.count_nonzero(pred-Y_test)\n",
    "mlp_test_acc_50 = (Y_test.size - errors)/Y_test.size\n",
    "print(mlp_test_acc_50)"
   ]
  },
  {
   "cell_type": "markdown",
   "metadata": {},
   "source": [
    "## 20/80 Split"
   ]
  },
  {
   "cell_type": "code",
   "execution_count": 53,
   "metadata": {
    "collapsed": true
   },
   "outputs": [],
   "source": [
    "# Split 20/80\n",
    "X_train = X[:int(len(X)*.2),:]\n",
    "Y_train = Y[:int(len(Y)*.2)]\n",
    "X_test = X[int(len(X)*.2):,:]\n",
    "Y_test = Y[int(len(Y)*.2):]"
   ]
  },
  {
   "cell_type": "markdown",
   "metadata": {},
   "source": [
    "### SVM"
   ]
  },
  {
   "cell_type": "code",
   "execution_count": 54,
   "metadata": {},
   "outputs": [
    {
     "name": "stdout",
     "output_type": "stream",
     "text": [
      "[0.5912 0.521  0.5184 0.5214 0.5286] [0.5824 0.5176 0.5088 0.5224 0.5336]\n"
     ]
    }
   ],
   "source": [
    "model = svm.LinearSVC()\n",
    "C_list = [10**-5,10**-4,10**-3,10**-2,10**-1]\n",
    "clf = GridSearchCV(model,{'C':C_list},cv=5)\n",
    "clf.fit(X_train, Y_train)\n",
    "train_acc = clf.cv_results_['mean_train_score']\n",
    "val_acc = clf.cv_results_['mean_test_score']\n",
    "print(train_acc, val_acc)"
   ]
  },
  {
   "cell_type": "code",
   "execution_count": 57,
   "metadata": {},
   "outputs": [
    {
     "name": "stdout",
     "output_type": "stream",
     "text": [
      "0.6044\n"
     ]
    }
   ],
   "source": [
    "clf = svm.LinearSVC(C=10**-5)\n",
    "clf.fit(X_train,Y_train)\n",
    "pred = clf.predict(X_test)\n",
    "errors = np.count_nonzero(pred-Y_test)\n",
    "svm_test_acc_20 = (Y_test.size - errors)/Y_test.size\n",
    "print(svm_test_acc_20)"
   ]
  },
  {
   "cell_type": "markdown",
   "metadata": {},
   "source": [
    "### KNN"
   ]
  },
  {
   "cell_type": "code",
   "execution_count": 58,
   "metadata": {},
   "outputs": [
    {
     "name": "stdout",
     "output_type": "stream",
     "text": [
      "[1.     0.8584 0.848  0.8116 0.7998 0.7746 0.7774 0.7616 0.76   0.7468\n",
      " 0.7458 0.7428 0.7362 0.7352 0.7342 0.729  0.7302 0.7248 0.7242 0.7138\n",
      " 0.7138 0.7086 0.7084 0.7034 0.703  0.6978] [0.7008 0.676  0.6784 0.6728 0.6832 0.6776 0.6696 0.6672 0.6792 0.6784\n",
      " 0.688  0.6776 0.6712 0.6744 0.6816 0.6752 0.6744 0.6688 0.6688 0.6736\n",
      " 0.6768 0.6832 0.6824 0.6776 0.6832 0.6744]\n"
     ]
    }
   ],
   "source": [
    "model = KNeighborsClassifier()\n",
    "k = np.arange(1,27)\n",
    "clf = GridSearchCV(model,{'n_neighbors':k},cv=5)\n",
    "clf.fit(X_train, Y_train)\n",
    "train_acc = clf.cv_results_['mean_train_score']\n",
    "val_acc = clf.cv_results_['mean_test_score']\n",
    "print(train_acc, val_acc)"
   ]
  },
  {
   "cell_type": "code",
   "execution_count": 60,
   "metadata": {},
   "outputs": [
    {
     "name": "stdout",
     "output_type": "stream",
     "text": [
      "0.7098\n"
     ]
    }
   ],
   "source": [
    "clf = KNeighborsClassifier(n_neighbors=1)\n",
    "clf.fit(X_train,Y_train)\n",
    "pred = clf.predict(X_test)\n",
    "errors = np.count_nonzero(pred-Y_test)\n",
    "knn_test_acc_20 = (Y_test.size - errors)/Y_test.size\n",
    "print(knn_test_acc_20)"
   ]
  },
  {
   "cell_type": "markdown",
   "metadata": {},
   "source": [
    "### Decision Trees"
   ]
  },
  {
   "cell_type": "code",
   "execution_count": 61,
   "metadata": {},
   "outputs": [
    {
     "name": "stdout",
     "output_type": "stream",
     "text": [
      "[0.8004 0.904  0.964  0.993  1.    ] [0.7504 0.74   0.7256 0.7168 0.712 ]\n"
     ]
    }
   ],
   "source": [
    "model = tree.DecisionTreeClassifier()\n",
    "D = [5,10,15,20,25]\n",
    "clf = GridSearchCV(model,{'max_depth':D},cv=5)\n",
    "clf.fit(X_train, Y_train)\n",
    "train_acc = clf.cv_results_['mean_train_score']\n",
    "val_acc = clf.cv_results_['mean_test_score']\n",
    "print(train_acc, val_acc)"
   ]
  },
  {
   "cell_type": "code",
   "execution_count": 66,
   "metadata": {},
   "outputs": [
    {
     "name": "stdout",
     "output_type": "stream",
     "text": [
      "0.7474\n"
     ]
    }
   ],
   "source": [
    "clf = tree.DecisionTreeClassifier(max_depth=5)\n",
    "clf.fit(X_train,Y_train)\n",
    "pred = clf.predict(X_test)\n",
    "errors = np.count_nonzero(pred-Y_test)\n",
    "dt_test_acc_20 = (Y_test.size - errors)/Y_test.size\n",
    "print(dt_test_acc_20)"
   ]
  },
  {
   "cell_type": "markdown",
   "metadata": {},
   "source": [
    "### Random Forest"
   ]
  },
  {
   "cell_type": "code",
   "execution_count": 67,
   "metadata": {},
   "outputs": [
    {
     "name": "stdout",
     "output_type": "stream",
     "text": [
      "[1.     0.9974 0.9876 0.978  0.9538 0.9264 0.9098] [0.78   0.7848 0.7776 0.78   0.772  0.7744 0.7656]\n"
     ]
    }
   ],
   "source": [
    "model = RandomForestClassifier(n_estimators=1024)\n",
    "clf = GridSearchCV(model,{'min_samples_split':[2,4,6,8,12,16,20]},cv=5)\n",
    "clf.fit(X_train, Y_train)\n",
    "train_acc = clf.cv_results_['mean_train_score']\n",
    "val_acc = clf.cv_results_['mean_test_score']\n",
    "print(train_acc, val_acc)"
   ]
  },
  {
   "cell_type": "code",
   "execution_count": 70,
   "metadata": {},
   "outputs": [
    {
     "name": "stdout",
     "output_type": "stream",
     "text": [
      "0.7784\n"
     ]
    }
   ],
   "source": [
    "clf =  RandomForestClassifier(n_estimators=1024, min_samples_split=2)\n",
    "clf.fit(X_train,Y_train)\n",
    "pred = clf.predict(X_test)\n",
    "errors = np.count_nonzero(pred-Y_test)\n",
    "rf_test_acc_20 = (Y_test.size - errors)/Y_test.size\n",
    "print(rf_test_acc_20)"
   ]
  },
  {
   "cell_type": "markdown",
   "metadata": {},
   "source": [
    "### Neural Network"
   ]
  },
  {
   "cell_type": "code",
   "execution_count": 71,
   "metadata": {},
   "outputs": [
    {
     "name": "stdout",
     "output_type": "stream",
     "text": [
      "[0.4934 0.5072 0.512  0.5024 0.4902 0.4934 0.5032 0.5024 0.5404 0.5232\n",
      " 0.5232 0.5202] [0.492  0.5072 0.512  0.5024 0.4896 0.4928 0.504  0.5024 0.5216 0.5088\n",
      " 0.5112 0.5064]\n"
     ]
    }
   ],
   "source": [
    "model = MLPClassifier(solver='sgd')\n",
    "param = {'hidden_layer_sizes':[(1,),(10,),(100,)],'momentum':[0,0.2,0.5,0.9]}\n",
    "clf = GridSearchCV(model,param,cv=5)\n",
    "clf.fit(X_train, Y_train)\n",
    "train_acc = clf.cv_results_['mean_train_score']\n",
    "val_acc = clf.cv_results_['mean_test_score']\n",
    "print(train_acc, val_acc)"
   ]
  },
  {
   "cell_type": "code",
   "execution_count": 78,
   "metadata": {},
   "outputs": [
    {
     "name": "stdout",
     "output_type": "stream",
     "text": [
      "0.5686\n"
     ]
    }
   ],
   "source": [
    "clf = MLPClassifier(solver='sgd',hidden_layer_sizes=(100,),momentum=0)\n",
    "clf.fit(X_train,Y_train)\n",
    "pred = clf.predict(X_test)\n",
    "errors = np.count_nonzero(pred-Y_test)\n",
    "mlp_test_acc_20 = (Y_test.size - errors)/Y_test.size\n",
    "print(mlp_test_acc_20)"
   ]
  },
  {
   "cell_type": "code",
   "execution_count": null,
   "metadata": {
    "collapsed": true
   },
   "outputs": [],
   "source": []
  }
 ],
 "metadata": {
  "kernelspec": {
   "display_name": "Python 3",
   "language": "python",
   "name": "python3"
  },
  "language_info": {
   "codemirror_mode": {
    "name": "ipython",
    "version": 3
   },
   "file_extension": ".py",
   "mimetype": "text/x-python",
   "name": "python",
   "nbconvert_exporter": "python",
   "pygments_lexer": "ipython3",
   "version": "3.6.3"
  },
  "varInspector": {
   "cols": {
    "lenName": 16,
    "lenType": 16,
    "lenVar": 40
   },
   "kernels_config": {
    "python": {
     "delete_cmd_postfix": "",
     "delete_cmd_prefix": "del ",
     "library": "var_list.py",
     "varRefreshCmd": "print(var_dic_list())"
    },
    "r": {
     "delete_cmd_postfix": ") ",
     "delete_cmd_prefix": "rm(",
     "library": "var_list.r",
     "varRefreshCmd": "cat(var_dic_list()) "
    }
   },
   "types_to_exclude": [
    "module",
    "function",
    "builtin_function_or_method",
    "instance",
    "_Feature"
   ],
   "window_display": false
  }
 },
 "nbformat": 4,
 "nbformat_minor": 2
}
