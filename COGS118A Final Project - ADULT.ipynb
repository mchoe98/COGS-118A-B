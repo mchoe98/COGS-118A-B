{
 "cells": [
  {
   "cell_type": "code",
   "execution_count": 1,
   "metadata": {
    "collapsed": true
   },
   "outputs": [],
   "source": [
    "import pandas as pd\n",
    "from sklearn.utils import shuffle\n",
    "import numpy as np\n",
    "import matplotlib.pyplot as plt\n",
    "from sklearn import svm\n",
    "from sklearn.neighbors import KNeighborsClassifier\n",
    "from sklearn import tree\n",
    "from sklearn.ensemble import RandomForestClassifier\n",
    "from sklearn.neural_network import MLPClassifier\n",
    "from sklearn.model_selection import GridSearchCV"
   ]
  },
  {
   "cell_type": "code",
   "execution_count": 2,
   "metadata": {
    "collapsed": true
   },
   "outputs": [],
   "source": [
    "import warnings\n",
    "warnings.filterwarnings(\"ignore\")"
   ]
  },
  {
   "cell_type": "markdown",
   "metadata": {},
   "source": [
    "# ADULT"
   ]
  },
  {
   "cell_type": "code",
   "execution_count": 2,
   "metadata": {},
   "outputs": [
    {
     "name": "stdout",
     "output_type": "stream",
     "text": [
      "(32561, 15)\n"
     ]
    }
   ],
   "source": [
    "data = pd.read_csv('adult.data', header=-1)\n",
    "data = shuffle(data)\n",
    "print(data.shape)"
   ]
  },
  {
   "cell_type": "code",
   "execution_count": 3,
   "metadata": {},
   "outputs": [
    {
     "name": "stdout",
     "output_type": "stream",
     "text": [
      "(6250, 107)\n"
     ]
    }
   ],
   "source": [
    "X = pd.get_dummies(data.iloc[:6250,:14]).values\n",
    "Y = pd.get_dummies(data.iloc[:6250,14]).values\n",
    "Y = np.argmax(Y, axis=1)\n",
    "print(X.shape)"
   ]
  },
  {
   "cell_type": "markdown",
   "metadata": {},
   "source": [
    "## 80/20 Split"
   ]
  },
  {
   "cell_type": "code",
   "execution_count": 4,
   "metadata": {
    "collapsed": true
   },
   "outputs": [],
   "source": [
    "X_train = X[:int(len(X)*.8),:]\n",
    "Y_train = Y[:int(len(Y)*.8)]\n",
    "X_test = X[int(len(X)*.8):,:]\n",
    "Y_test = Y[int(len(Y)*.8):]"
   ]
  },
  {
   "cell_type": "markdown",
   "metadata": {},
   "source": [
    "### SVM"
   ]
  },
  {
   "cell_type": "code",
   "execution_count": 76,
   "metadata": {},
   "outputs": [
    {
     "name": "stdout",
     "output_type": "stream",
     "text": [
      "[0.67232592 0.78074993 0.67827461 0.67087739 0.67462349] [0.6722 0.7808 0.6814 0.6682 0.6734]\n"
     ]
    }
   ],
   "source": [
    "model = svm.LinearSVC()\n",
    "C_list = [10**-5,10**-4,10**-3,10**-2,10**-1]\n",
    "clf = GridSearchCV(model,{'C':C_list},cv=5)\n",
    "clf.fit(X_train, Y_train)\n",
    "train_acc = clf.cv_results_['mean_train_score']\n",
    "val_acc = clf.cv_results_['mean_test_score']\n",
    "print(train_acc, val_acc)"
   ]
  },
  {
   "cell_type": "code",
   "execution_count": 79,
   "metadata": {},
   "outputs": [
    {
     "name": "stdout",
     "output_type": "stream",
     "text": [
      "0.776\n"
     ]
    }
   ],
   "source": [
    "clf = svm.LinearSVC(C=10**-4)\n",
    "clf.fit(X_train,Y_train)\n",
    "pred = clf.predict(X_test)\n",
    "errors = np.count_nonzero(pred-Y_test)\n",
    "svm_test_acc_80 = (Y_test.size - errors)/Y_test.size\n",
    "print(svm_test_acc_80)"
   ]
  },
  {
   "cell_type": "markdown",
   "metadata": {},
   "source": [
    "### KNN"
   ]
  },
  {
   "cell_type": "code",
   "execution_count": 10,
   "metadata": {},
   "outputs": [
    {
     "name": "stdout",
     "output_type": "stream",
     "text": [
      "[1.         0.85285008 0.8501497  0.82015002 0.82209962 0.80959985\n",
      " 0.80955009 0.80174984 0.80329995 0.79754981 0.79809983 0.79454976\n",
      " 0.79579983 0.7928999  0.79419983 0.79119975 0.79179988 0.78929986\n",
      " 0.79029976 0.78769996 0.78869995 0.78634999 0.78719995 0.78519996\n",
      " 0.78564993 0.78399996] [0.6968 0.776  0.7464 0.7838 0.769  0.7854 0.7748 0.7878 0.782  0.7888\n",
      " 0.7864 0.788  0.7882 0.7898 0.7908 0.7884 0.7898 0.7878 0.7884 0.7866\n",
      " 0.787  0.7852 0.7858 0.7836 0.7846 0.7822]\n"
     ]
    }
   ],
   "source": [
    "model = KNeighborsClassifier()\n",
    "k = np.arange(1,27)\n",
    "clf = GridSearchCV(model,{'n_neighbors':k},cv=5)\n",
    "clf.fit(X_train, Y_train)\n",
    "train_acc = clf.cv_results_['mean_train_score']\n",
    "val_acc = clf.cv_results_['mean_test_score']\n",
    "print(train_acc, val_acc)"
   ]
  },
  {
   "cell_type": "code",
   "execution_count": 17,
   "metadata": {},
   "outputs": [
    {
     "name": "stdout",
     "output_type": "stream",
     "text": [
      "0.7896\n"
     ]
    }
   ],
   "source": [
    "clf = KNeighborsClassifier(n_neighbors=15)\n",
    "clf.fit(X_train,Y_train)\n",
    "pred = clf.predict(X_test)\n",
    "errors = np.count_nonzero(pred-Y_test)\n",
    "knn_test_acc_80 = (Y_test.size - errors)/Y_test.size\n",
    "print(knn_test_acc_80)"
   ]
  },
  {
   "cell_type": "markdown",
   "metadata": {},
   "source": [
    "### Decision Trees"
   ]
  },
  {
   "cell_type": "code",
   "execution_count": 14,
   "metadata": {},
   "outputs": [
    {
     "name": "stdout",
     "output_type": "stream",
     "text": [
      "[0.8482502  0.88674939 0.93044931 0.95969931 0.97844961] [0.839  0.8278 0.8076 0.8014 0.7984]\n"
     ]
    }
   ],
   "source": [
    "model = tree.DecisionTreeClassifier()\n",
    "D = [5,10,15,20,25]\n",
    "clf = GridSearchCV(model,{'max_depth':D},cv=5)\n",
    "clf.fit(X_train, Y_train)\n",
    "train_acc = clf.cv_results_['mean_train_score']\n",
    "val_acc = clf.cv_results_['mean_test_score']\n",
    "print(train_acc, val_acc)"
   ]
  },
  {
   "cell_type": "code",
   "execution_count": 19,
   "metadata": {},
   "outputs": [
    {
     "name": "stdout",
     "output_type": "stream",
     "text": [
      "0.8584\n"
     ]
    }
   ],
   "source": [
    "clf = tree.DecisionTreeClassifier(max_depth=5)\n",
    "clf.fit(X_train,Y_train)\n",
    "pred = clf.predict(X_test)\n",
    "errors = np.count_nonzero(pred-Y_test)\n",
    "dt_test_acc_80 = (Y_test.size - errors)/Y_test.size\n",
    "print(dt_test_acc_80)"
   ]
  },
  {
   "cell_type": "markdown",
   "metadata": {},
   "source": [
    "### Random Forest"
   ]
  },
  {
   "cell_type": "code",
   "execution_count": 21,
   "metadata": {},
   "outputs": [
    {
     "name": "stdout",
     "output_type": "stream",
     "text": [
      "[1.         0.98180006 0.95940006 0.94435016 0.92615025 0.91560025\n",
      " 0.90610042] [0.8444 0.847  0.8512 0.8506 0.8526 0.8528 0.8544]\n"
     ]
    }
   ],
   "source": [
    "model = RandomForestClassifier(n_estimators=1024)\n",
    "clf = GridSearchCV(model,{'min_samples_split':[2,4,6,8,12,16,20]},cv=5)\n",
    "clf.fit(X_train, Y_train)\n",
    "train_acc = clf.cv_results_['mean_train_score']\n",
    "val_acc = clf.cv_results_['mean_test_score']\n",
    "print(train_acc, val_acc)"
   ]
  },
  {
   "cell_type": "code",
   "execution_count": 24,
   "metadata": {},
   "outputs": [
    {
     "name": "stdout",
     "output_type": "stream",
     "text": [
      "0.8656\n"
     ]
    }
   ],
   "source": [
    "clf =  RandomForestClassifier(n_estimators=1024, min_samples_split=4)\n",
    "clf.fit(X_train,Y_train)\n",
    "pred = clf.predict(X_test)\n",
    "errors = np.count_nonzero(pred-Y_test)\n",
    "rf_test_acc_80 = (Y_test.size - errors)/Y_test.size\n",
    "print(rf_test_acc_80)"
   ]
  },
  {
   "cell_type": "markdown",
   "metadata": {},
   "source": [
    "### Neural Network"
   ]
  },
  {
   "cell_type": "code",
   "execution_count": 5,
   "metadata": {},
   "outputs": [
    {
     "name": "stderr",
     "output_type": "stream",
     "text": [
      "/anaconda3/lib/python3.6/site-packages/sklearn/neural_network/multilayer_perceptron.py:564: ConvergenceWarning: Stochastic Optimizer: Maximum iterations (200) reached and the optimization hasn't converged yet.\n",
      "  % self.max_iter, ConvergenceWarning)\n",
      "/anaconda3/lib/python3.6/site-packages/sklearn/neural_network/multilayer_perceptron.py:564: ConvergenceWarning: Stochastic Optimizer: Maximum iterations (200) reached and the optimization hasn't converged yet.\n",
      "  % self.max_iter, ConvergenceWarning)\n",
      "/anaconda3/lib/python3.6/site-packages/sklearn/neural_network/multilayer_perceptron.py:564: ConvergenceWarning: Stochastic Optimizer: Maximum iterations (200) reached and the optimization hasn't converged yet.\n",
      "  % self.max_iter, ConvergenceWarning)\n",
      "/anaconda3/lib/python3.6/site-packages/sklearn/neural_network/multilayer_perceptron.py:564: ConvergenceWarning: Stochastic Optimizer: Maximum iterations (200) reached and the optimization hasn't converged yet.\n",
      "  % self.max_iter, ConvergenceWarning)\n",
      "/anaconda3/lib/python3.6/site-packages/sklearn/neural_network/multilayer_perceptron.py:564: ConvergenceWarning: Stochastic Optimizer: Maximum iterations (200) reached and the optimization hasn't converged yet.\n",
      "  % self.max_iter, ConvergenceWarning)\n",
      "/anaconda3/lib/python3.6/site-packages/sklearn/neural_network/multilayer_perceptron.py:564: ConvergenceWarning: Stochastic Optimizer: Maximum iterations (200) reached and the optimization hasn't converged yet.\n",
      "  % self.max_iter, ConvergenceWarning)\n",
      "/anaconda3/lib/python3.6/site-packages/sklearn/neural_network/multilayer_perceptron.py:564: ConvergenceWarning: Stochastic Optimizer: Maximum iterations (200) reached and the optimization hasn't converged yet.\n",
      "  % self.max_iter, ConvergenceWarning)\n",
      "/anaconda3/lib/python3.6/site-packages/sklearn/neural_network/multilayer_perceptron.py:564: ConvergenceWarning: Stochastic Optimizer: Maximum iterations (200) reached and the optimization hasn't converged yet.\n",
      "  % self.max_iter, ConvergenceWarning)\n",
      "/anaconda3/lib/python3.6/site-packages/sklearn/neural_network/multilayer_perceptron.py:564: ConvergenceWarning: Stochastic Optimizer: Maximum iterations (200) reached and the optimization hasn't converged yet.\n",
      "  % self.max_iter, ConvergenceWarning)\n",
      "/anaconda3/lib/python3.6/site-packages/sklearn/neural_network/multilayer_perceptron.py:564: ConvergenceWarning: Stochastic Optimizer: Maximum iterations (200) reached and the optimization hasn't converged yet.\n",
      "  % self.max_iter, ConvergenceWarning)\n",
      "/anaconda3/lib/python3.6/site-packages/sklearn/neural_network/multilayer_perceptron.py:564: ConvergenceWarning: Stochastic Optimizer: Maximum iterations (200) reached and the optimization hasn't converged yet.\n",
      "  % self.max_iter, ConvergenceWarning)\n",
      "/anaconda3/lib/python3.6/site-packages/sklearn/neural_network/multilayer_perceptron.py:564: ConvergenceWarning: Stochastic Optimizer: Maximum iterations (200) reached and the optimization hasn't converged yet.\n",
      "  % self.max_iter, ConvergenceWarning)\n",
      "/anaconda3/lib/python3.6/site-packages/sklearn/neural_network/multilayer_perceptron.py:564: ConvergenceWarning: Stochastic Optimizer: Maximum iterations (200) reached and the optimization hasn't converged yet.\n",
      "  % self.max_iter, ConvergenceWarning)\n",
      "/anaconda3/lib/python3.6/site-packages/sklearn/neural_network/multilayer_perceptron.py:564: ConvergenceWarning: Stochastic Optimizer: Maximum iterations (200) reached and the optimization hasn't converged yet.\n",
      "  % self.max_iter, ConvergenceWarning)\n",
      "/anaconda3/lib/python3.6/site-packages/sklearn/neural_network/multilayer_perceptron.py:564: ConvergenceWarning: Stochastic Optimizer: Maximum iterations (200) reached and the optimization hasn't converged yet.\n",
      "  % self.max_iter, ConvergenceWarning)\n",
      "/anaconda3/lib/python3.6/site-packages/sklearn/neural_network/multilayer_perceptron.py:564: ConvergenceWarning: Stochastic Optimizer: Maximum iterations (200) reached and the optimization hasn't converged yet.\n",
      "  % self.max_iter, ConvergenceWarning)\n",
      "/anaconda3/lib/python3.6/site-packages/sklearn/neural_network/multilayer_perceptron.py:564: ConvergenceWarning: Stochastic Optimizer: Maximum iterations (200) reached and the optimization hasn't converged yet.\n",
      "  % self.max_iter, ConvergenceWarning)\n",
      "/anaconda3/lib/python3.6/site-packages/sklearn/neural_network/multilayer_perceptron.py:564: ConvergenceWarning: Stochastic Optimizer: Maximum iterations (200) reached and the optimization hasn't converged yet.\n",
      "  % self.max_iter, ConvergenceWarning)\n",
      "/anaconda3/lib/python3.6/site-packages/sklearn/neural_network/multilayer_perceptron.py:564: ConvergenceWarning: Stochastic Optimizer: Maximum iterations (200) reached and the optimization hasn't converged yet.\n",
      "  % self.max_iter, ConvergenceWarning)\n",
      "/anaconda3/lib/python3.6/site-packages/sklearn/neural_network/multilayer_perceptron.py:564: ConvergenceWarning: Stochastic Optimizer: Maximum iterations (200) reached and the optimization hasn't converged yet.\n",
      "  % self.max_iter, ConvergenceWarning)\n"
     ]
    },
    {
     "name": "stdout",
     "output_type": "stream",
     "text": [
      "[0.74340001 0.74340001 0.74340001 0.74340001 0.74400014 0.74345002\n",
      " 0.35399999 0.5487     0.74650019 0.45247453 0.54989889 0.54984988] [0.7434 0.7434 0.7434 0.7434 0.745  0.7436 0.354  0.5486 0.7472 0.452\n",
      " 0.5496 0.55  ]\n"
     ]
    },
    {
     "name": "stderr",
     "output_type": "stream",
     "text": [
      "/anaconda3/lib/python3.6/site-packages/sklearn/neural_network/multilayer_perceptron.py:564: ConvergenceWarning: Stochastic Optimizer: Maximum iterations (200) reached and the optimization hasn't converged yet.\n",
      "  % self.max_iter, ConvergenceWarning)\n",
      "/anaconda3/lib/python3.6/site-packages/sklearn/utils/deprecation.py:122: FutureWarning: You are accessing a training score ('mean_train_score'), which will not be available by default any more in 0.21. If you need training scores, please set return_train_score=True\n",
      "  warnings.warn(*warn_args, **warn_kwargs)\n"
     ]
    }
   ],
   "source": [
    "model = MLPClassifier(solver='sgd')\n",
    "param = {'hidden_layer_sizes':[(1,),(10,),(100,)],'momentum':[0,0.2,0.5,0.9]}\n",
    "clf = GridSearchCV(model,param,cv=5)\n",
    "clf.fit(X_train, Y_train)\n",
    "train_acc = clf.cv_results_['mean_train_score']\n",
    "val_acc = clf.cv_results_['mean_test_score']\n",
    "print(train_acc, val_acc)"
   ]
  },
  {
   "cell_type": "code",
   "execution_count": 28,
   "metadata": {},
   "outputs": [
    {
     "name": "stdout",
     "output_type": "stream",
     "text": [
      "0.7656\n"
     ]
    }
   ],
   "source": [
    "clf = MLPClassifier(solver='sgd',hidden_layer_sizes=(100,),momentum=0)\n",
    "clf.fit(X_train,Y_train)\n",
    "pred = clf.predict(X_test)\n",
    "errors = np.count_nonzero(pred-Y_test)\n",
    "mlp_test_acc_80 = (Y_test.size - errors)/Y_test.size\n",
    "print(mlp_test_acc_80)"
   ]
  },
  {
   "cell_type": "markdown",
   "metadata": {},
   "source": [
    "## 50/50 Split"
   ]
  },
  {
   "cell_type": "code",
   "execution_count": 29,
   "metadata": {
    "collapsed": true
   },
   "outputs": [],
   "source": [
    "# Split 50/50\n",
    "X_train = X[:int(len(X)*.5),:]\n",
    "Y_train = Y[:int(len(Y)*.5)]\n",
    "X_test = X[int(len(X)*.5):,:]\n",
    "Y_test = Y[int(len(Y)*.5):]"
   ]
  },
  {
   "cell_type": "markdown",
   "metadata": {},
   "source": [
    "### SVM"
   ]
  },
  {
   "cell_type": "code",
   "execution_count": 30,
   "metadata": {},
   "outputs": [
    {
     "name": "stdout",
     "output_type": "stream",
     "text": [
      "[0.77655882 0.56575904 0.56887661 0.77487914 0.55664608] [0.77312 0.56064 0.56992 0.77344 0.5568 ]\n"
     ]
    }
   ],
   "source": [
    "model = svm.LinearSVC()\n",
    "C_list = [10**-5,10**-4,10**-3,10**-2,10**-1]\n",
    "clf = GridSearchCV(model,{'C':C_list},cv=5)\n",
    "clf.fit(X_train, Y_train)\n",
    "train_acc = clf.cv_results_['mean_train_score']\n",
    "val_acc = clf.cv_results_['mean_test_score']\n",
    "print(train_acc, val_acc)"
   ]
  },
  {
   "cell_type": "code",
   "execution_count": 45,
   "metadata": {},
   "outputs": [
    {
     "name": "stdout",
     "output_type": "stream",
     "text": [
      "0.77376\n"
     ]
    }
   ],
   "source": [
    "clf = svm.LinearSVC(C=10**-2)\n",
    "clf.fit(X_train,Y_train)\n",
    "pred = clf.predict(X_test)\n",
    "errors = np.count_nonzero(pred-Y_test)\n",
    "svm_test_acc_50 = (Y_test.size - errors)/Y_test.size\n",
    "print(svm_test_acc_50)"
   ]
  },
  {
   "cell_type": "markdown",
   "metadata": {},
   "source": [
    "### KNN"
   ]
  },
  {
   "cell_type": "code",
   "execution_count": 46,
   "metadata": {},
   "outputs": [
    {
     "name": "stdout",
     "output_type": "stream",
     "text": [
      "[1.         0.84823963 0.84623931 0.81831994 0.82095963 0.80455985\n",
      " 0.80784078 0.79768042 0.80088026 0.79351959 0.79623937 0.79047962\n",
      " 0.79207975 0.78831968 0.79055985 0.78599965 0.78703997 0.78351962\n",
      " 0.78431962 0.78199965 0.78295959 0.78127962 0.78167968 0.78039965\n",
      " 0.78095972 0.77951978] [0.69696 0.77408 0.73568 0.77376 0.75872 0.77728 0.7728  0.78208 0.78016\n",
      " 0.784   0.78176 0.78432 0.78496 0.78208 0.78208 0.78208 0.78208 0.7808\n",
      " 0.7808  0.78016 0.78112 0.77952 0.78016 0.77728 0.77856 0.7776 ]\n"
     ]
    }
   ],
   "source": [
    "model = KNeighborsClassifier()\n",
    "k = np.arange(1,27)\n",
    "clf = GridSearchCV(model,{'n_neighbors':k},cv=5)\n",
    "clf.fit(X_train, Y_train)\n",
    "train_acc = clf.cv_results_['mean_train_score']\n",
    "val_acc = clf.cv_results_['mean_test_score']\n",
    "print(train_acc, val_acc)"
   ]
  },
  {
   "cell_type": "code",
   "execution_count": 49,
   "metadata": {},
   "outputs": [
    {
     "name": "stdout",
     "output_type": "stream",
     "text": [
      "0.78368\n"
     ]
    }
   ],
   "source": [
    "clf = KNeighborsClassifier(n_neighbors=13)\n",
    "clf.fit(X_train,Y_train)\n",
    "pred = clf.predict(X_test)\n",
    "errors = np.count_nonzero(pred-Y_test)\n",
    "knn_test_acc_50 = (Y_test.size - errors)/Y_test.size\n",
    "print(knn_test_acc_50)"
   ]
  },
  {
   "cell_type": "markdown",
   "metadata": {},
   "source": [
    "### Decision Trees"
   ]
  },
  {
   "cell_type": "code",
   "execution_count": 50,
   "metadata": {},
   "outputs": [
    {
     "name": "stdout",
     "output_type": "stream",
     "text": [
      "[0.85335998 0.89728024 0.94719993 0.97792118 0.99408054] [0.8352  0.82848 0.816   0.80352 0.80064]\n"
     ]
    }
   ],
   "source": [
    "model = tree.DecisionTreeClassifier()\n",
    "D = [5,10,15,20,25]\n",
    "clf = GridSearchCV(model,{'max_depth':D},cv=5)\n",
    "clf.fit(X_train, Y_train)\n",
    "train_acc = clf.cv_results_['mean_train_score']\n",
    "val_acc = clf.cv_results_['mean_test_score']\n",
    "print(train_acc, val_acc)"
   ]
  },
  {
   "cell_type": "code",
   "execution_count": 53,
   "metadata": {},
   "outputs": [
    {
     "name": "stdout",
     "output_type": "stream",
     "text": [
      "0.8464\n"
     ]
    }
   ],
   "source": [
    "clf = tree.DecisionTreeClassifier(max_depth=5)\n",
    "clf.fit(X_train,Y_train)\n",
    "pred = clf.predict(X_test)\n",
    "errors = np.count_nonzero(pred-Y_test)\n",
    "dt_test_acc_50 = (Y_test.size - errors)/Y_test.size\n",
    "print(dt_test_acc_50)"
   ]
  },
  {
   "cell_type": "markdown",
   "metadata": {},
   "source": [
    "### Random Forest"
   ]
  },
  {
   "cell_type": "code",
   "execution_count": 54,
   "metadata": {},
   "outputs": [
    {
     "name": "stdout",
     "output_type": "stream",
     "text": [
      "[1.         0.98344006 0.95992035 0.94464009 0.92432002 0.91255992\n",
      " 0.90240037] [0.84288 0.84672 0.84544 0.84768 0.84832 0.84736 0.84672]\n"
     ]
    }
   ],
   "source": [
    "model = RandomForestClassifier(n_estimators=1024)\n",
    "clf = GridSearchCV(model,{'min_samples_split':[2,4,6,8,12,16,20]},cv=5)\n",
    "clf.fit(X_train, Y_train)\n",
    "train_acc = clf.cv_results_['mean_train_score']\n",
    "val_acc = clf.cv_results_['mean_test_score']\n",
    "print(train_acc, val_acc)"
   ]
  },
  {
   "cell_type": "code",
   "execution_count": 57,
   "metadata": {},
   "outputs": [
    {
     "name": "stdout",
     "output_type": "stream",
     "text": [
      "0.86048\n"
     ]
    }
   ],
   "source": [
    "clf =  RandomForestClassifier(n_estimators=1024, min_samples_split=16)\n",
    "clf.fit(X_train,Y_train)\n",
    "pred = clf.predict(X_test)\n",
    "errors = np.count_nonzero(pred-Y_test)\n",
    "rf_test_acc_50 = (Y_test.size - errors)/Y_test.size\n",
    "print(rf_test_acc_50)"
   ]
  },
  {
   "cell_type": "markdown",
   "metadata": {},
   "source": [
    "### Neural Network"
   ]
  },
  {
   "cell_type": "code",
   "execution_count": 58,
   "metadata": {},
   "outputs": [
    {
     "name": "stdout",
     "output_type": "stream",
     "text": [
      "[0.44652277 0.76736003 0.76736003 0.66048003 0.76792016 0.76800016\n",
      " 0.66107736 0.4468001  0.77023975 0.55491698 0.34012296 0.66131723] [0.44672 0.768   0.76736 0.66016 0.76832 0.76736 0.66144 0.4464  0.76928\n",
      " 0.55488 0.33952 0.66144]\n"
     ]
    }
   ],
   "source": [
    "model = MLPClassifier(solver='sgd')\n",
    "param = {'hidden_layer_sizes':[(1,),(10,),(100,)],'momentum':[0,0.2,0.5,0.9]}\n",
    "clf = GridSearchCV(model,param,cv=5)\n",
    "clf.fit(X_train, Y_train)\n",
    "train_acc = clf.cv_results_['mean_train_score']\n",
    "val_acc = clf.cv_results_['mean_test_score']\n",
    "print(train_acc, val_acc)"
   ]
  },
  {
   "cell_type": "code",
   "execution_count": 113,
   "metadata": {},
   "outputs": [
    {
     "name": "stdout",
     "output_type": "stream",
     "text": [
      "0.7664\n"
     ]
    }
   ],
   "source": [
    "clf = MLPClassifier(solver='sgd',hidden_layer_sizes=(100,),momentum=0)\n",
    "clf.fit(X_train,Y_train)\n",
    "pred = clf.predict(X_test)\n",
    "errors = np.count_nonzero(pred-Y_test)\n",
    "mlp_test_acc_50 = (Y_test.size - errors)/Y_test.size\n",
    "print(mlp_test_acc_50)"
   ]
  },
  {
   "cell_type": "markdown",
   "metadata": {},
   "source": [
    "## 20/80 Split"
   ]
  },
  {
   "cell_type": "code",
   "execution_count": 80,
   "metadata": {
    "collapsed": true
   },
   "outputs": [],
   "source": [
    "# Split 20/80\n",
    "X_train = X[:int(len(X)*.2),:]\n",
    "Y_train = Y[:int(len(Y)*.2)]\n",
    "X_test = X[int(len(X)*.2):,:]\n",
    "Y_test = Y[int(len(Y)*.2):]"
   ]
  },
  {
   "cell_type": "markdown",
   "metadata": {},
   "source": [
    "### SVM"
   ]
  },
  {
   "cell_type": "code",
   "execution_count": 86,
   "metadata": {},
   "outputs": [
    {
     "name": "stdout",
     "output_type": "stream",
     "text": [
      "[0.68130952 0.57759122 0.68948373 0.72419844 0.57108493] [0.6808 0.5752 0.6856 0.7256 0.5752]\n"
     ]
    }
   ],
   "source": [
    "model = svm.LinearSVC()\n",
    "C_list = [10**-5,10**-4,10**-3,10**-2,10**-1]\n",
    "clf = GridSearchCV(model,{'C':C_list},cv=5)\n",
    "clf.fit(X_train, Y_train)\n",
    "train_acc = clf.cv_results_['mean_train_score']\n",
    "val_acc = clf.cv_results_['mean_test_score']\n",
    "print(train_acc, val_acc)"
   ]
  },
  {
   "cell_type": "code",
   "execution_count": 93,
   "metadata": {},
   "outputs": [
    {
     "name": "stdout",
     "output_type": "stream",
     "text": [
      "0.7718\n"
     ]
    }
   ],
   "source": [
    "clf = svm.LinearSVC(C=10**-5)\n",
    "clf.fit(X_train,Y_train)\n",
    "pred = clf.predict(X_test)\n",
    "errors = np.count_nonzero(pred-Y_test)\n",
    "svm_test_acc_20 = (Y_test.size - errors)/Y_test.size\n",
    "print(svm_test_acc_20)"
   ]
  },
  {
   "cell_type": "markdown",
   "metadata": {},
   "source": [
    "### KNN"
   ]
  },
  {
   "cell_type": "code",
   "execution_count": 94,
   "metadata": {},
   "outputs": [
    {
     "name": "stdout",
     "output_type": "stream",
     "text": [
      "[1.         0.84540108 0.84839988 0.81940026 0.81840025 0.80480084\n",
      " 0.80319964 0.79760044 0.79820204 0.79459984 0.79520004 0.79280043\n",
      " 0.79399964 0.79000083 0.79060063 0.78680163 0.78680203 0.78440123\n",
      " 0.78540143 0.78360063 0.78380083 0.78240023 0.78340043 0.78220023\n",
      " 0.78280043 0.78100002] [0.7048 0.7832 0.7496 0.7816 0.7688 0.7888 0.7848 0.7872 0.7864 0.7872\n",
      " 0.7856 0.7888 0.7912 0.7888 0.7896 0.7848 0.7848 0.784  0.7856 0.784\n",
      " 0.784  0.7832 0.7832 0.7816 0.7816 0.7808]\n"
     ]
    }
   ],
   "source": [
    "model = KNeighborsClassifier()\n",
    "k = np.arange(1,27)\n",
    "clf = GridSearchCV(model,{'n_neighbors':k},cv=5)\n",
    "clf.fit(X_train, Y_train)\n",
    "train_acc = clf.cv_results_['mean_train_score']\n",
    "val_acc = clf.cv_results_['mean_test_score']\n",
    "print(train_acc, val_acc)"
   ]
  },
  {
   "cell_type": "code",
   "execution_count": 96,
   "metadata": {},
   "outputs": [
    {
     "name": "stdout",
     "output_type": "stream",
     "text": [
      "0.7742\n"
     ]
    }
   ],
   "source": [
    "clf = KNeighborsClassifier(n_neighbors=13)\n",
    "clf.fit(X_train,Y_train)\n",
    "pred = clf.predict(X_test)\n",
    "errors = np.count_nonzero(pred-Y_test)\n",
    "knn_test_acc_20 = (Y_test.size - errors)/Y_test.size\n",
    "print(knn_test_acc_20)"
   ]
  },
  {
   "cell_type": "markdown",
   "metadata": {},
   "source": [
    "### Decision Trees"
   ]
  },
  {
   "cell_type": "code",
   "execution_count": 97,
   "metadata": {},
   "outputs": [
    {
     "name": "stdout",
     "output_type": "stream",
     "text": [
      "[0.8706025  0.93419535 0.98239679 0.997798   0.9997998 ] [0.8392 0.8176 0.7912 0.7904 0.7912]\n"
     ]
    }
   ],
   "source": [
    "model = tree.DecisionTreeClassifier()\n",
    "D = [5,10,15,20,25]\n",
    "clf = GridSearchCV(model,{'max_depth':D},cv=5)\n",
    "clf.fit(X_train, Y_train)\n",
    "train_acc = clf.cv_results_['mean_train_score']\n",
    "val_acc = clf.cv_results_['mean_test_score']\n",
    "print(train_acc, val_acc)"
   ]
  },
  {
   "cell_type": "code",
   "execution_count": 100,
   "metadata": {},
   "outputs": [
    {
     "name": "stdout",
     "output_type": "stream",
     "text": [
      "0.8364\n"
     ]
    }
   ],
   "source": [
    "clf = tree.DecisionTreeClassifier(max_depth=5)\n",
    "clf.fit(X_train,Y_train)\n",
    "pred = clf.predict(X_test)\n",
    "errors = np.count_nonzero(pred-Y_test)\n",
    "dt_test_acc_20 = (Y_test.size - errors)/Y_test.size\n",
    "print(dt_test_acc_20)"
   ]
  },
  {
   "cell_type": "markdown",
   "metadata": {},
   "source": [
    "### Random Forest"
   ]
  },
  {
   "cell_type": "code",
   "execution_count": 101,
   "metadata": {},
   "outputs": [
    {
     "name": "stdout",
     "output_type": "stream",
     "text": [
      "[1.         0.98520119 0.96220117 0.94979896 0.92900194 0.91400213\n",
      " 0.90260132] [0.8256 0.828  0.8296 0.8312 0.8328 0.8352 0.8344]\n"
     ]
    }
   ],
   "source": [
    "model = RandomForestClassifier(n_estimators=1024)\n",
    "clf = GridSearchCV(model,{'min_samples_split':[2,4,6,8,12,16,20]},cv=5)\n",
    "clf.fit(X_train, Y_train)\n",
    "train_acc = clf.cv_results_['mean_train_score']\n",
    "val_acc = clf.cv_results_['mean_test_score']\n",
    "print(train_acc, val_acc)"
   ]
  },
  {
   "cell_type": "code",
   "execution_count": 104,
   "metadata": {},
   "outputs": [
    {
     "name": "stdout",
     "output_type": "stream",
     "text": [
      "0.849\n"
     ]
    }
   ],
   "source": [
    "clf =  RandomForestClassifier(n_estimators=1024, min_samples_split=16)\n",
    "clf.fit(X_train,Y_train)\n",
    "pred = clf.predict(X_test)\n",
    "errors = np.count_nonzero(pred-Y_test)\n",
    "rf_test_acc_20 = (Y_test.size - errors)/Y_test.size\n",
    "print(rf_test_acc_20)"
   ]
  },
  {
   "cell_type": "markdown",
   "metadata": {},
   "source": [
    "### Neural Network"
   ]
  },
  {
   "cell_type": "code",
   "execution_count": 105,
   "metadata": {},
   "outputs": [
    {
     "name": "stdout",
     "output_type": "stream",
     "text": [
      "[0.5549998  0.5548     0.66409071 0.66409071 0.66469011 0.66470971\n",
      " 0.44628949 0.555419   0.77879922 0.67040023 0.4474208  0.55589171] [0.5544 0.5552 0.664  0.664  0.6648 0.664  0.4472 0.5552 0.7792 0.672\n",
      " 0.4488 0.556 ]\n"
     ]
    }
   ],
   "source": [
    "model = MLPClassifier(solver='sgd')\n",
    "param = {'hidden_layer_sizes':[(1,),(10,),(100,)],'momentum':[0,0.2,0.5,0.9]}\n",
    "clf = GridSearchCV(model,param,cv=5)\n",
    "clf.fit(X_train, Y_train)\n",
    "train_acc = clf.cv_results_['mean_train_score']\n",
    "val_acc = clf.cv_results_['mean_test_score']\n",
    "print(train_acc, val_acc)"
   ]
  },
  {
   "cell_type": "code",
   "execution_count": 108,
   "metadata": {},
   "outputs": [
    {
     "name": "stdout",
     "output_type": "stream",
     "text": [
      "0.7696\n"
     ]
    }
   ],
   "source": [
    "clf = MLPClassifier(solver='sgd',hidden_layer_sizes=(100,),momentum=0)\n",
    "clf.fit(X_train,Y_train)\n",
    "pred = clf.predict(X_test)\n",
    "errors = np.count_nonzero(pred-Y_test)\n",
    "mlp_test_acc_20 = (Y_test.size - errors)/Y_test.size\n",
    "print(mlp_test_acc_20)"
   ]
  },
  {
   "cell_type": "code",
   "execution_count": null,
   "metadata": {
    "collapsed": true
   },
   "outputs": [],
   "source": []
  }
 ],
 "metadata": {
  "kernelspec": {
   "display_name": "Python 3",
   "language": "python",
   "name": "python3"
  },
  "language_info": {
   "codemirror_mode": {
    "name": "ipython",
    "version": 3
   },
   "file_extension": ".py",
   "mimetype": "text/x-python",
   "name": "python",
   "nbconvert_exporter": "python",
   "pygments_lexer": "ipython3",
   "version": "3.6.3"
  },
  "varInspector": {
   "cols": {
    "lenName": 16,
    "lenType": 16,
    "lenVar": 40
   },
   "kernels_config": {
    "python": {
     "delete_cmd_postfix": "",
     "delete_cmd_prefix": "del ",
     "library": "var_list.py",
     "varRefreshCmd": "print(var_dic_list())"
    },
    "r": {
     "delete_cmd_postfix": ") ",
     "delete_cmd_prefix": "rm(",
     "library": "var_list.r",
     "varRefreshCmd": "cat(var_dic_list()) "
    }
   },
   "types_to_exclude": [
    "module",
    "function",
    "builtin_function_or_method",
    "instance",
    "_Feature"
   ],
   "window_display": false
  }
 },
 "nbformat": 4,
 "nbformat_minor": 2
}
